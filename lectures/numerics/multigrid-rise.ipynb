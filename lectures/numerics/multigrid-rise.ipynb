{
 "cells": [
  {
   "cell_type": "markdown",
   "metadata": {
    "slideshow": {
     "slide_type": "slide"
    }
   },
   "source": [
    "# Parallel Scientific Computing II\n",
    "\n",
    "## Multigrid\n",
    "    \n",
    "#### Anne Reinarz"
   ]
  },
  {
   "cell_type": "markdown",
   "metadata": {
    "slideshow": {
     "slide_type": "slide"
    }
   },
   "source": [
    "# Recall\n",
    "\n",
    "- Smoothers good for reducing high-frequency errors\n",
    "- Otherwise very slow convergence\n",
    "\n",
    "\n",
    "### Observation\n",
    "\n",
    "What is \"high-frequency\" depends on the number of points in the grid\n",
    "\n",
    "#### Basic Idea\n",
    "\n",
    "Choose multiple grids, each reducing the errors of a certain frequency"
   ]
  },
  {
   "cell_type": "markdown",
   "metadata": {
    "slideshow": {
     "slide_type": "slide"
    }
   },
   "source": [
    "# 2D Multigrid for Darcy Flow\n",
    "\n",
    "We are going to look at the Darcy flow equation, discretized with a simple finite elements scheme on a hierarchical quad-tree based grid.\n",
    "\n",
    "\n",
    "- steady state Darcy flow equation.\n",
    "    - This equation states the law of fluid flow through a porous medium, e.g. through sand.\n",
    "\n",
    "\n"
   ]
  },
  {
   "cell_type": "markdown",
   "metadata": {
    "slideshow": {
     "slide_type": "slide"
    }
   },
   "source": [
    "# 2D Multigrid for Darcy Flow\n",
    "\n",
    "\n",
    "We have \n",
    "- the steady-state fluid pressure $u$\n",
    "- the spatially varying permeability $K(x,y)$.\n",
    "\n",
    "The PDE is basically a variable-coefficient version of the Poission equation and looks like:\n",
    "$$- \\nabla \\cdot \\left(K(x,y) \\nabla u \\right) = f,\n",
    "\\qquad \\forall \\mathbf{x} \\in \\Omega\n",
    "$$\n",
    "with boundary conditions\n",
    "\\begin{align}\n",
    "u(x,y) &= 0 \\qquad \\forall x \\in \\Gamma_D \\\\\n",
    "-K(x) \\nabla u \\cdot n &= 0 \\qquad \\forall x \\in \\Gamma - \\Gamma_D\n",
    "\\end{align}\n",
    "where $\\Gamma$ is the boundary and $\\Gamma_D$ is the Dirichlet part of the boundary.\n",
    "\n",
    "The Dirichlet boundary is on the top of the domain, all other boundary conditions are set to Neumann.\n"
   ]
  },
  {
   "cell_type": "markdown",
   "metadata": {
    "slideshow": {
     "slide_type": "slide"
    }
   },
   "source": [
    "# The grid\n",
    "We define a quadtree-based grid, as this allows us to perform hierarchical algorithms with ease.\n",
    "Briefly, we decompose the domain into squares."
   ]
  },
  {
   "cell_type": "markdown",
   "metadata": {
    "slideshow": {
     "slide_type": "slide"
    }
   },
   "source": [
    "# Discretization\n",
    "For the discretization we use a finite element approach. As in finite differences we end up with a stiffness matrix $A_{ij}$ and a right-hand side $f_{i}$, where $i$ and $j$ are indices of vertices.\n",
    "It is important to note here that we remove rows and columns where either $i$ or $j$ corresponds to a vertex where the Dirichlet boundary condition is enfored.\n",
    "We do this to ensure that the remaining system is symmetric.\n",
    "\n",
    "This is all you need to know about the discretization to finish this notebook. The implementation of finite elements can be found in the src directory of the git repository for the lecture."
   ]
  },
  {
   "cell_type": "code",
   "execution_count": 21,
   "metadata": {
    "slideshow": {
     "slide_type": "slide"
    }
   },
   "outputs": [],
   "source": [
    "%matplotlib inline\n",
    "import numpy as np\n",
    "\n",
    "\n",
    "import scipy.special as special\n",
    "import scipy.sparse as sp\n",
    "import scipy.sparse.linalg as splinalg\n",
    "\n",
    "import matplotlib.pyplot as plt\n",
    "import matplotlib as mpl\n",
    "import matplotlib.cm as cm\n",
    "from matplotlib import patches\n",
    "\n",
    "import sys\n",
    "sys.path.append(\"src/\")\n",
    "\n",
    "import quadtree\n",
    "import plotter\n",
    "import fem"
   ]
  },
  {
   "cell_type": "code",
   "execution_count": 22,
   "metadata": {
    "slideshow": {
     "slide_type": "fragment"
    }
   },
   "outputs": [
    {
     "data": {
      "text/plain": [
       "4"
      ]
     },
     "execution_count": 22,
     "metadata": {},
     "output_type": "execute_result"
    }
   ],
   "source": [
    "class Geometry:\n",
    "    def __init__(self, level):\n",
    "        center = np.array([0.5, 0.5])\n",
    "        size = 1.0\n",
    "        self.grid = quadtree.Quadtree(center=center, size=size)\n",
    "        self.grid.split_to_level(level)\n",
    "       \n",
    "        self.vertices_coords_to_idx, \\\n",
    "        self.number_of_vertices_per_level, \\\n",
    "        self.boundary_vertices = self.grid.get_vertices()\n",
    "        self.vertices_idx_to_coords = {v: k for k, v in self.vertices_coords_to_idx.items()}\n",
    "        self.grid.set_all_cell_vertices(self.vertices_coords_to_idx)\n",
    "        self.grid.set_all_cell_indices()\n",
    "        \n",
    "        self.dirichlet_vertices = set()\n",
    "        for v in self.boundary_vertices:\n",
    "            eps = 1e-8\n",
    "            if self.vertices_idx_to_coords[v][1] >= (1 - eps):\n",
    "                self.dirichlet_vertices.add(v)\n",
    "        \n",
    "        dirichlet_vertices_array = np.array([*self.dirichlet_vertices])\n",
    "        # We do not store the data for Dirichlet values\n",
    "   \n",
    "        self.data_size_per_level = []\n",
    "        for level in range(self.grid.get_max_level()+1):\n",
    "            n_vert = self.number_of_vertices_per_level[level]\n",
    "            n_dirichlet_vert = len(\n",
    "                dirichlet_vertices_array[\n",
    "                    dirichlet_vertices_array < n_vert])\n",
    "            self.data_size_per_level.append(n_vert - n_dirichlet_vert)\n",
    "            \n",
    "        \n",
    "        self.vertex_idx_to_data_idx = np.zeros(self.number_of_vertices_per_level[-1], dtype=np.int32)\n",
    "        self.data_idx_to_vertex_idx = np.zeros(self.data_size_per_level[-1], dtype=np.int32)\n",
    "        cur_data_idx = 0\n",
    "        for i in range(self.number_of_vertices_per_level[-1]):\n",
    "            if i in self.dirichlet_vertices:\n",
    "                self.vertex_idx_to_data_idx[i] = -1\n",
    "            else:\n",
    "                self.vertex_idx_to_data_idx[i] = cur_data_idx\n",
    "                self.data_idx_to_vertex_idx[cur_data_idx] = i\n",
    "                cur_data_idx += 1       \n",
    "        \n",
    "\n",
    "geometry = Geometry(level=4)\n",
    "geometry.number_of_vertices_per_level[0]"
   ]
  },
  {
   "cell_type": "markdown",
   "metadata": {
    "slideshow": {
     "slide_type": "slide"
    }
   },
   "source": [
    "## Solving the system for a single level\n",
    "Below we show how to setup a discretization, geometry and stiffness matrix and rhs.\n",
    "We also show how to compute a solution with a direct solver."
   ]
  },
  {
   "cell_type": "code",
   "execution_count": 3,
   "metadata": {
    "slideshow": {
     "slide_type": "fragment"
    }
   },
   "outputs": [
    {
     "data": {
      "text/plain": [
       "8.332014642235895e-15"
      ]
     },
     "execution_count": 3,
     "metadata": {},
     "output_type": "execute_result"
    }
   ],
   "source": [
    "# Use a simple material\n",
    "def eval_k(x,y):\n",
    "    return x + y\n",
    "\n",
    "level = 4\n",
    "geometry = Geometry(level=4)\n",
    "discretization = fem.Discretization(geometry,level=level,eval_k=eval_k)\n",
    "stiffness = discretization.setup_stiffness()\n",
    "rhs = discretization.setup_rhs()\n",
    "sol = splinalg.linsolve.spsolve(stiffness, rhs)\n",
    "\n",
    "# System is solved correctly to double precision:\n",
    "np.linalg.norm(stiffness @ sol - rhs)"
   ]
  },
  {
   "cell_type": "markdown",
   "metadata": {
    "slideshow": {
     "slide_type": "slide"
    }
   },
   "source": [
    "## Plotting the solution\n",
    "You can visualize the solution with *plot_solution* as below.\n",
    "It also kept in the notebook as a further example of a grid traversal, for the evaluation of the basis functions and for the handling of Dirichlet boundary conditions.\n",
    "\n",
    "The left plot shows the solution, the right one shows the material parameter.\n",
    "Dirichlet vertices are marked with black x."
   ]
  },
  {
   "cell_type": "code",
   "execution_count": 4,
   "metadata": {},
   "outputs": [
    {
     "data": {
      "image/png": "[encoded data removed]",
      "text/plain": [
       "<Figure size 1296x576 with 4 Axes>"
      ]
     },
     "metadata": {
      "needs_background": "light"
     },
     "output_type": "display_data"
    }
   ],
   "source": [
    "def plot_solution(geometry, discretization, sol, level):\n",
    "    # First find minimum and maximum material parameter\n",
    "    min_k, max_k = float('inf'), float('-inf')\n",
    "    for cell in geometry.grid.dfs(only_level=level):\n",
    "        k = discretization.eval_k(cell.center[0], cell.center[1])\n",
    "        min_k = min(k, min_k)\n",
    "        max_k = max(k, max_k)\n",
    "\n",
    "    # Set up color scales for the solution and the material k.\n",
    "    norm_solution = mpl.colors.Normalize(vmin=sol.min(), vmax=sol.max())\n",
    "    norm_k = mpl.colors.Normalize(vmin=min_k, vmax=max_k)\n",
    "    cmap = cm.viridis\n",
    "    color_mapper_solution = cm.ScalarMappable(norm=norm_solution, cmap=cmap)\n",
    "    color_mapper_k = cm.ScalarMappable(norm=norm_k, cmap=cmap)\n",
    "\n",
    "    fig, axs = plt.subplots(1,2, figsize=(18,8))\n",
    "    \n",
    "    # Lists to store Dirichlet vertices.\n",
    "    dirichlet_xs = []\n",
    "    dirichlet_ys = []\n",
    "\n",
    "    for cell in geometry.grid.dfs(only_level=level):\n",
    "        value = 0.0\n",
    "        # Evaluate all basis functions at (0.5, 0.5)\n",
    "        for i, vertex in enumerate(cell.vertices):\n",
    "            # Ignore dirichlet boundary conditions.\n",
    "            # Their value is not stored and is always zero.\n",
    "            if vertex not in geometry.dirichlet_vertices:\n",
    "                # Here we get the index of the data correspond to the vertex.\n",
    "                data_idx = geometry.vertex_idx_to_data_idx[vertex]\n",
    "                value += sol[data_idx] * fem.lagrange_2d(discretization.nodes_x, i, (0.5,0.5))\n",
    "\n",
    "        # Plot the rectangles that build up the grid.\n",
    "        rect = patches.Rectangle(\n",
    "            cell.offset,\n",
    "            cell.size,\n",
    "            cell.size,\n",
    "            fill=True,\n",
    "            color=color_mapper_solution.to_rgba(value))\n",
    "        axs[0].add_patch(rect)\n",
    "\n",
    "        # Plot material\n",
    "        value = discretization.eval_k(cell.center[0], cell.center[1])\n",
    "        rect = patches.Rectangle(\n",
    "            cell.offset,\n",
    "            cell.size,\n",
    "            cell.size,\n",
    "            fill=True,\n",
    "            color=color_mapper_k.to_rgba(value))\n",
    "        axs[1].add_patch(rect)    \n",
    "\n",
    "        # Find dirichlet vertices\n",
    "        for v in cell.vertices:\n",
    "            if v in geometry.dirichlet_vertices:\n",
    "                dirichlet_xs.append(geometry.vertices_idx_to_coords[v][0])\n",
    "                dirichlet_ys.append(geometry.vertices_idx_to_coords[v][1])\n",
    "                \n",
    "    axs[0].set_title(\"Solution\")\n",
    "    axs[0].axis('square')\n",
    "\n",
    "    axs[1].set_title(\"K\")\n",
    "    axs[1].axis('square')\n",
    "\n",
    "    # Mark Dirichlet vertices with black x.\n",
    "    for ax in axs:\n",
    "        ax.scatter(dirichlet_xs, dirichlet_ys, c='black', zorder=10, marker='x', s=50)\n",
    "        \n",
    "    fig.colorbar(color_mapper_solution, ax=axs[0])    \n",
    "    fig.colorbar(color_mapper_k, ax=axs[1])\n",
    "\n",
    "plot_solution(geometry=geometry, discretization=discretization, sol=sol, level=level)"
   ]
  },
  {
   "cell_type": "markdown",
   "metadata": {
    "slideshow": {
     "slide_type": "slide"
    }
   },
   "source": [
    "# A nested iteration\n",
    "\n",
    "Instead of a full multigrid method, lets start with a simpler idea. We could solve on a coarse grid in order to get a starting guess for the finer grid.\n"
   ]
  },
  {
   "cell_type": "markdown",
   "metadata": {
    "slideshow": {
     "slide_type": "slide"
    }
   },
   "source": [
    "# A nested iteration\n",
    "\n",
    "\n",
    "### Algorithm:\n",
    "1. Start on a very coarse grid with mesh size $h = h_0$ and guess an initial solution $x_h$\n",
    "        \n",
    "2. Iterate over $A_h x_h = b_h$ using relaxation method to get an approximate solution $x_h$\n",
    "        \n",
    "3. interpolate the solution $x_h$ to a finer grid with mesh width $h/2$\n",
    "\n",
    "4. proceed with step 2 (now with mesh size $h := h/2$) using interpolated $x_{h/2}$ as initial solution\n"
   ]
  },
  {
   "cell_type": "markdown",
   "metadata": {
    "slideshow": {
     "slide_type": "slide"
    }
   },
   "source": [
    "# A nested iteration\n",
    "\n",
    "\n",
    "### Ingredients\n",
    "1. smoother: reduce the high-frequency error components, and get a smooth error\n",
    "2. coarse grid equation: discretisation of the PDE on the coarse grid\n",
    "3. interpolation: transfer coarse grid solution/correction from coarse grid to fine grid\n",
    "\n",
    "Let's go through these three ingredients step by step.\n"
   ]
  },
  {
   "cell_type": "markdown",
   "metadata": {
    "slideshow": {
     "slide_type": "slide"
    }
   },
   "source": [
    "\n",
    "## 1. Smoothers\n",
    "The next step towards multigrid is defining the smoother.\n",
    "Here, we want to use a simple Jacobi relaxation. Recall from the precious lecture that we split the matrix $A$ into a diagonal and an off-diagonal part as\n",
    "$$A = D + O.$$\n",
    "We can then write one Jacobi update as\n",
    "$$x^{n+1} = D^{-1} (b - O x^{n}).$$\n",
    "\n",
    "Let's recall the implemenation (here modified to use sparse matrices for performance):"
   ]
  },
  {
   "cell_type": "code",
   "execution_count": 23,
   "metadata": {
    "slideshow": {
     "slide_type": "slide"
    }
   },
   "outputs": [],
   "source": [
    "def jacobiRelaxation(A, b, x0, max_iter):\n",
    "    diagonal_part = sp.diags(A.diagonal())\n",
    "    diagonal_part_inv = sp.diags(1/A.diagonal())\n",
    "    rest = A - diagonal_part\n",
    "    x = x0\n",
    "    for i in range(max_iter):\n",
    "        x = diagonal_part_inv @ (b - rest @ x)\n",
    "    return x"
   ]
  },
  {
   "cell_type": "code",
   "execution_count": 24,
   "metadata": {
    "slideshow": {
     "slide_type": "fragment"
    }
   },
   "outputs": [],
   "source": [
    "def compute_residual(A, x, b):\n",
    "    return np.linalg.norm(A @ x - b)"
   ]
  },
  {
   "cell_type": "markdown",
   "metadata": {
    "slideshow": {
     "slide_type": "slide"
    }
   },
   "source": [
    "## 2. Coarse Matrix\n",
    "\n",
    "Next let's create our coarse grid one level smaller than the fine grid (of max_level).\n",
    "\n",
    "But first let's take a look at a single cell and the corresponding fine cells:"
   ]
  },
  {
   "cell_type": "code",
   "execution_count": 7,
   "metadata": {},
   "outputs": [
    {
     "data": {
      "text/plain": [
       "Text(0.5, 1.0, 'Corresponding Fine Cell')"
      ]
     },
     "execution_count": 7,
     "metadata": {},
     "output_type": "execute_result"
    },
    {
     "data": {
      "image/png": "[encoded data removed]",
      "text/plain": [
       "<Figure size 720x720 with 2 Axes>"
      ]
     },
     "metadata": {
      "needs_background": "light"
     },
     "output_type": "display_data"
    }
   ],
   "source": [
    "# Take the first and only cell of level 0.\n",
    "cells = list(geometry.grid.dfs(only_level=0))\n",
    "c = cells[0]\n",
    "\n",
    "fig, axs = plt.subplots(1, 2, sharey=True, figsize=(10,10))\n",
    "plotter.plot_grid(fig, axs[0], grid=c, level=0, vertices=geometry.vertices_idx_to_coords, plot_vertices=True)\n",
    "plotter.plot_grid(fig, axs[1], grid=c, level=1, vertices=geometry.vertices_idx_to_coords, plot_vertices=True)\n",
    "axs[0].axis('square')\n",
    "axs[0].set_title(\"Coarse Cell\")\n",
    "axs[1].axis('square')\n",
    "axs[1].set_title(\"Corresponding Fine Cell\")"
   ]
  },
  {
   "cell_type": "markdown",
   "metadata": {
    "slideshow": {
     "slide_type": "slide"
    }
   },
   "source": [
    "Using this means we can use the geometry defined above with four levels and simply restrict ourselves to a lower level."
   ]
  },
  {
   "cell_type": "code",
   "execution_count": 8,
   "metadata": {},
   "outputs": [
    {
     "name": "stdout",
     "output_type": "stream",
     "text": [
      "Residual 8.395947516015757e-08\n"
     ]
    },
    {
     "data": {
      "image/png": "[encoded data removed]",
      "text/plain": [
       "<Figure size 1296x576 with 4 Axes>"
      ]
     },
     "metadata": {
      "needs_background": "light"
     },
     "output_type": "display_data"
    }
   ],
   "source": [
    "level_coarse = 1\n",
    "discretization_coarse = fem.Discretization(geometry,level=level_coarse,eval_k=eval_k)\n",
    "A_coarse = discretization_coarse.setup_stiffness()\n",
    "rhs_coarse = discretization_coarse.setup_rhs()\n",
    "#print(A_coarse.todense())\n",
    "sol_coarse = jacobiRelaxation(A_coarse, rhs_coarse, np.ones(shape = len(rhs_coarse),dtype = float),50)\n",
    "print(\"Residual\", compute_residual(A_coarse,sol_coarse,rhs_coarse))\n",
    "\n",
    "plot_solution(geometry=geometry, discretization=discretization_coarse, sol=sol_coarse, level=level_coarse)"
   ]
  },
  {
   "cell_type": "markdown",
   "metadata": {
    "slideshow": {
     "slide_type": "slide"
    }
   },
   "source": [
    "\n",
    "## 3. Interpolation\n",
    "\n",
    "Note that all vertices in the coarse grid also exist in the fine grid.\n",
    "For these vertices, it is trivial to define the fine grid solution.\n",
    "The other values need to somehow be inferred. To start we will use a linear interpolation. In a 1D setting this means that we will take half the value at the point to the left and half of the value of the point to the right. "
   ]
  },
  {
   "cell_type": "code",
   "execution_count": 9,
   "metadata": {},
   "outputs": [
    {
     "data": {
      "image/png": "[encoded data removed]",
      "text/plain": [
       "<Figure size 432x288 with 1 Axes>"
      ]
     },
     "metadata": {
      "needs_background": "light"
     },
     "output_type": "display_data"
    }
   ],
   "source": [
    "sol_c = [1,2]\n",
    "sol_f = [1,(1+2)/2,2]\n",
    "plt.plot(np.linspace(0,1,2), sol_c); \n",
    "plt.plot(np.linspace(0,1,3), sol_f,\"x\"); \n",
    "plt.show()"
   ]
  },
  {
   "cell_type": "markdown",
   "metadata": {
    "slideshow": {
     "slide_type": "slide"
    }
   },
   "source": [
    "Some notes on other possible choices:\n",
    "1. choose a constant value (ie either value to the side)\n",
    "     - usually too small approximation error\n",
    "     - sometimes used for cell-based coarsening (e.g. for FV methods where the cell values are constants)\n",
    "2. quadratic, cubic, etc.:\n",
    "      - often too costly\n",
    "      - more smoothing steps are cheaper and can eliminate the disadvantage of a lower-order interpolation\n",
    "      \n",
    "For our current approximation a linear interpolation is reasonable."
   ]
  },
  {
   "cell_type": "markdown",
   "metadata": {
    "slideshow": {
     "slide_type": "slide"
    }
   },
   "source": [
    "### Interpolation - A small example in matrix notation\n",
    "\n",
    "This assumes a 1D setup\n",
    "  \n",
    "$$\n",
    "  \\left(\\begin{array}{ccc}\n",
    "        \\frac{1}{2} & 0 & 0 \\\\\n",
    "        1 & 0 & 0 \\\\\n",
    "        \\frac{1}{2} & \\frac{1}{2} & 0 \\\\\n",
    "        0 & 1 & 0 \\\\\n",
    "        0 & \\frac{1}{2} & \\frac{1}{2} \\\\\n",
    "        0 & 0 & 1 \\\\\n",
    "        0 & 0 & \\frac{1}{2}\\\\\n",
    "     \\end{array}\\right)\n",
    "     \\left(\\begin{array}{c}\n",
    "        x_1 \\\\ x_2 \\\\ x_3\n",
    "\\end{array}\\right)\n",
    "=\n",
    "     \\left(\\begin{array}{c}\n",
    "        \\frac{1}{2} (0+x_1) \\\\ x_1 \\\\ \\frac{1}{2} ( x_1+x_2) \\\\ x_2 \\\\ \n",
    "        \\frac{1}{2} ( x_2+x_3) \\\\ x_3 \\\\ \\frac{1}{2} (x_3+0)\n",
    "     \\end{array}\\right)$$\n",
    "  \n",
    "Notation: $I_{2h} x_{2h} = x_h$ or $P_{2h}x_{2h} = x_h$\n",
    "\n",
    "Note: disregards boundary values (here: 0-Dirichlet condition assumed)"
   ]
  },
  {
   "cell_type": "markdown",
   "metadata": {
    "slideshow": {
     "slide_type": "slide"
    }
   },
   "source": [
    "### Interpolation in multiple dimensions\n",
    "\n",
    "The next step is to define an interpolation operator in multiple dimensions.\n",
    "\n",
    "The algorithm for building up the interpolation matrix is quite simple:\n",
    "- Loop through all cells\n",
    "- Find their parent with cell.parent\n",
    "- Loop over all vertices (in cell.vertices)\n",
    "- Find their indices with geometry.vertices_idx_to_coords\\[vertex_id\\]\n",
    "- Use evaluate_solution to find the coefficients of the parent's basis functions and set the entry in the matrix.\n",
    "You basically have to loop through all cells of a given level, and then use the function evaluate_solution to find the coefficients."
   ]
  },
  {
   "cell_type": "code",
   "execution_count": 25,
   "metadata": {
    "slideshow": {
     "slide_type": "slide"
    }
   },
   "outputs": [
    {
     "name": "stdout",
     "output_type": "stream",
     "text": [
      "Found cell with center [0.25 0.75] and size 0.5\n",
      "Its parent has center [0.5 0.5] and size 1.0\n",
      "child's  \t0th vertex has index 4, data index 2, global coordinates (0.0, 0.5) and reference coordinates [-1. -1.]\n",
      "child's  \t1th vertex has index 1, data index -1, global coordinates (0.0, 1.0) and reference coordinates [-1.  1.]\n",
      "child's  \t2th vertex has index 5, data index 3, global coordinates (0.5, 0.5) and reference coordinates [ 1. -1.]\n",
      "child's  \t3th vertex has index 6, data index -1, global coordinates (0.5, 1.0) and reference coordinates [1. 1.]\n",
      "\n",
      "parent's\t0th vertex has index 0, data index 0,  global coordinates (0.0, 0.0) and reference coordinates [-1. -1.]\n",
      "parent's\t1th vertex has index 1, data index -1,  global coordinates (0.0, 1.0) and reference coordinates [-1.  1.]\n",
      "parent's\t2th vertex has index 2, data index 1,  global coordinates (1.0, 0.0) and reference coordinates [ 1. -1.]\n",
      "parent's\t3th vertex has index 3, data index -1,  global coordinates (1.0, 1.0) and reference coordinates [1. 1.]\n",
      "Vertices of level 0 are\t\t{0, 1, 2, 3},\n",
      "vertices of level 1 are\t\t{0, 1, 2, 3, 4, 5, 6, 7, 8}\n",
      "Data indices of level 0 are\t{0, 1},\n",
      "data indices of level 1 are\t{0, 1, 2, 3, 4, 5}\n"
     ]
    }
   ],
   "source": [
    "# Example of finding vertices:\n",
    "\n",
    "# Take a random cell\n",
    "cell = next(geometry.grid.dfs(only_level=1))\n",
    "print(\"Found cell with center {center} and size {size}\".format(\n",
    "    center=cell.center, \n",
    "    size=cell.size))\n",
    "\n",
    "# Next we find the parent of the cell\n",
    "parent = cell.parent\n",
    "print(\"Its parent has center {center} and size {size}\".format(\n",
    "    center=parent.center, \n",
    "    size=parent.size))\n",
    "\n",
    "# Our cell has a few vertices:\n",
    "for i, vertex in enumerate(cell.vertices):\n",
    "    global_coords = geometry.vertices_idx_to_coords[vertex]\n",
    "    reference_coords = fem.map_to_reference_coordinates(cell, global_coords)\n",
    "    print(\n",
    "        \"child's  \\t{i}th vertex has index {idx}, data index {data_idx}, global coordinates {global_coords} and reference coordinates {reference_coords}\".format(\n",
    "    i=i,\n",
    "    idx=vertex,\n",
    "    data_idx=geometry.vertex_idx_to_data_idx[vertex],\n",
    "    global_coords=global_coords,\n",
    "    reference_coords=reference_coords))\n",
    "    \n",
    "print()\n",
    "# The parent also has vertices:\n",
    "for i, vertex in enumerate(parent.vertices):\n",
    "    global_coords = geometry.vertices_idx_to_coords[vertex]\n",
    "    reference_coords = fem.map_to_reference_coordinates(parent, global_coords)\n",
    "    print(\n",
    "        \"parent's\\t{i}th vertex has index {idx}, data index {data_idx},  global coordinates {global_coords} and reference coordinates {reference_coords}\".format(\n",
    "    i=i,\n",
    "    idx=vertex,\n",
    "    data_idx=geometry.vertex_idx_to_data_idx[vertex],\n",
    "    global_coords=global_coords,\n",
    "    reference_coords=reference_coords))\n",
    "# Note that the vertices of both cells have the same reference coordinates.     \n",
    "\n",
    "        \n",
    "# Now we want to evaluate the basis functions of the parent \n",
    "# at the location of the child's vertices.\n",
    "# We can take the first vertex of the PARENT\n",
    "first_basis_function_parent = 0\n",
    "first_vertex_cell = cell.vertices[0]\n",
    "coordinates_vertex_cell = np.array(geometry.vertices_idx_to_coords[first_vertex_cell])\n",
    "# Important: We map to the reference coordinates of the PARENT!\n",
    "reference_coordinates_vertex_cell = fem.map_to_reference_coordinates(parent, coordinates_vertex_cell)\n",
    "\n",
    "# Show that vertices of level l are subset of vertices of level l+1\n",
    "def collect_vertex_ids(geometry, level):\n",
    "    vertex_ids = set()\n",
    "    data_ids = set()\n",
    "    # You can iterate through the cells of a level with a depth-first search.\n",
    "    for cell in geometry.grid.dfs(only_level=level):\n",
    "        for vertex in cell.vertices:\n",
    "            vertex_ids.add(vertex)\n",
    "            if vertex not in geometry.dirichlet_vertices:\n",
    "                data_ids.add(geometry.vertex_idx_to_data_idx[vertex])\n",
    "            \n",
    "    return vertex_ids, data_ids\n",
    "\n",
    "v_0, d_0 = collect_vertex_ids(geometry, 0)\n",
    "v_1, d_1 = collect_vertex_ids(geometry, 1)\n",
    "print(\"Vertices of level 0 are\\t\\t{},\\nvertices of level 1 are\\t\\t{}\".format(v_0, v_1))\n",
    "print(\"Data indices of level 0 are\\t{},\\ndata indices of level 1 are\\t{}\".format(d_0, d_1))"
   ]
  },
  {
   "cell_type": "code",
   "execution_count": 11,
   "metadata": {},
   "outputs": [
    {
     "name": "stdout",
     "output_type": "stream",
     "text": [
      "[[1.   0.   0.   0.   0.   0.  ]\n",
      " [0.   1.   0.   0.   0.   0.  ]\n",
      " [0.   0.   1.   0.   0.   0.  ]\n",
      " [0.   0.   0.   1.   0.   0.  ]\n",
      " [0.   0.   0.   0.   1.   0.  ]\n",
      " [0.   0.   0.   0.   0.   1.  ]\n",
      " [0.   0.   0.5  0.   0.   0.  ]\n",
      " [0.   0.   0.25 0.25 0.   0.  ]\n",
      " [0.   0.   0.   0.5  0.   0.  ]\n",
      " [0.   0.   0.5  0.5  0.   0.  ]\n",
      " [0.   0.   0.   0.25 0.25 0.  ]\n",
      " [0.   0.   0.   0.   0.5  0.  ]\n",
      " [0.   0.   0.   0.5  0.5  0.  ]\n",
      " [0.5  0.   0.5  0.   0.   0.  ]\n",
      " [0.25 0.   0.25 0.25 0.   0.25]\n",
      " [0.   0.   0.   0.5  0.   0.5 ]\n",
      " [0.5  0.   0.   0.   0.   0.5 ]\n",
      " [0.   0.25 0.   0.25 0.25 0.25]\n",
      " [0.   0.5  0.   0.   0.5  0.  ]\n",
      " [0.   0.5  0.   0.   0.   0.5 ]]\n"
     ]
    }
   ],
   "source": [
    "# needed in FEM, in FD this reduces to evaluating at a vertex\n",
    "def evaluate_solution(geometry, discretization, cell, coord):\n",
    "    x, y = fem.map_to_reference_coordinates(cell, coord)\n",
    "    coeff = dict()\n",
    "    for linear_index, vert in enumerate(cell.vertices):\n",
    "        if vert not in geometry.dirichlet_vertices:\n",
    "            coeff[vert] = fem.lagrange_2d(discretization.nodes_x, linear_index, np.array([x,y]))\n",
    "    return coeff\n",
    "\n",
    "def make_interpolation(geometry, level_coarse):\n",
    "    level_fine = level_coarse + 1\n",
    "    discretization = fem.Discretization(geometry, level_fine)\n",
    "\n",
    "    number_of_vertices_coarse = geometry.data_size_per_level[level_coarse]\n",
    "    number_of_vertices_fine = geometry.data_size_per_level[level_fine]\n",
    "    \n",
    "    interpolation = sp.lil_matrix((number_of_vertices_fine, number_of_vertices_coarse), dtype=np.float64)\n",
    "    \n",
    "    for cell in geometry.grid.dfs(only_level=level_fine):\n",
    "        for vert in cell.vertices:\n",
    "            if vert in geometry.dirichlet_vertices: \n",
    "                continue\n",
    "            data_idx_fine = geometry.vertex_idx_to_data_idx[vert]\n",
    "            coords = geometry.vertices_idx_to_coords[vert]\n",
    "            coeffs = evaluate_solution(geometry, discretization, cell.parent, np.array(coords))\n",
    "            for key, val in coeffs.items():\n",
    "                data_idx_coarse = geometry.vertex_idx_to_data_idx[key]\n",
    "                interpolation[data_idx_fine, data_idx_coarse] = val\n",
    "    return interpolation.tocsc()\n",
    "\n",
    "interpolation = make_interpolation(geometry, level_coarse=level_coarse)\n",
    "print(interpolation.todense())"
   ]
  },
  {
   "cell_type": "markdown",
   "metadata": {
    "slideshow": {
     "slide_type": "slide"
    }
   },
   "source": [
    "### Note\n",
    "The choice of interpolation operator is very important for the convergence of multigrid methods\n",
    "\n",
    "See the notebook 2DMultigrid.ipynb for an example where linear interpolation is not appropriate."
   ]
  },
  {
   "cell_type": "markdown",
   "metadata": {
    "slideshow": {
     "slide_type": "slide"
    }
   },
   "source": [
    "For our current setting, the linear interpolation above does well. So we can continue on to trying out the nested iteration."
   ]
  },
  {
   "cell_type": "code",
   "execution_count": 26,
   "metadata": {
    "slideshow": {
     "slide_type": "slide"
    }
   },
   "outputs": [
    {
     "name": "stdout",
     "output_type": "stream",
     "text": [
      "Residual 0.04183366376133181\n"
     ]
    },
    {
     "data": {
      "image/png": "[encoded data removed]",
      "text/plain": [
       "<Figure size 1296x576 with 4 Axes>"
      ]
     },
     "metadata": {
      "needs_background": "light"
     },
     "output_type": "display_data"
    },
    {
     "data": {
      "image/png": "[encoded data removed]",
      "text/plain": [
       "<Figure size 1296x576 with 4 Axes>"
      ]
     },
     "metadata": {
      "needs_background": "light"
     },
     "output_type": "display_data"
    },
    {
     "data": {
      "image/png": "[encoded data removed]",
      "text/plain": [
       "<Figure size 1296x576 with 4 Axes>"
      ]
     },
     "metadata": {
      "needs_background": "light"
     },
     "output_type": "display_data"
    }
   ],
   "source": [
    "discretization_fine = fem.Discretization(geometry,level=2,eval_k=eval_k)\n",
    "A_fine = discretization_fine.setup_stiffness()\n",
    "rhs_fine = discretization_fine.setup_rhs()\n",
    "\n",
    "initial_guess_fine = interpolation @ sol_coarse\n",
    "sol_fine = jacobiRelaxation(A_fine, rhs_fine, initial_guess_fine,3)\n",
    "print(\"Residual\", compute_residual(A_fine,sol_fine, rhs_fine))\n",
    "\n",
    "plot_solution(geometry=geometry, discretization=discretization_fine, sol=initial_guess_fine, level=2)\n",
    "plot_solution(geometry=geometry, discretization=discretization_fine, sol=sol_fine, level=2)\n",
    "plot_solution(geometry=geometry, discretization=discretization_fine, sol=splinalg.linsolve.spsolve(stiffness, rhs), level=2)"
   ]
  },
  {
   "cell_type": "markdown",
   "metadata": {
    "slideshow": {
     "slide_type": "slide"
    }
   },
   "source": [
    "## Observation for nested iteration:\n",
    "The error in interpolated initial guess also includes low frequencies. As a result the relaxation method still converges slowly. Therefore our question is:\n",
    "- can we go “back” to a coarser grid later in the algorithm?\n",
    "\n",
    "If we could do that we could correct these remaining low-frequency errors there."
   ]
  },
  {
   "cell_type": "markdown",
   "metadata": {
    "slideshow": {
     "slide_type": "slide"
    }
   },
   "source": [
    "# Multigrid\n",
    "To start here is some recommended literature on multigrid:\n",
    "- Briggs, Henson, McCormick: A Multigrid Tutorial (2nd ed.), SIAM, 2000.\n",
    "- Trottenberg, Oosterlee, Schüller: Multigrid, Elsevier, 2001.\n",
    "- Shapira: Matrix-Based Multigrid: Theory and Applications, Springer, 2008.\n",
    "- Hackbusch: Iterative Solution of Large Sparse Systems of Equations, Springer 1993.\n",
    "- Brandt, Livne: Multigrid Techniques: 1984 Guide with Applications to Fluid Dynamics, Revised Edition, SIAM\n"
   ]
  },
  {
   "cell_type": "markdown",
   "metadata": {
    "slideshow": {
     "slide_type": "slide"
    }
   },
   "source": [
    "## The multigrid idea\n",
    "Observation and convergence analysis of smoothers have shown us that “high-frequency error” is relative to mesh size and that on a sufficiently coarse grid, even very low frequencies can be “high-frequency” (if the mesh size is big). The main idea of multigrid is now to use multiple grids to solve the system of equations and hope that on each grid, a certain range of error frequencies will be reduced efficiently.\n",
    "\n",
    "Idea 2: From the previous nested iteration we have learned that we may want to move back and forth between grids. To make this easier we should work only with the residual equation.\n"
   ]
  },
  {
   "cell_type": "markdown",
   "metadata": {
    "slideshow": {
     "slide_type": "slide"
    }
   },
   "source": [
    "## The multigrid idea\n",
    "\n",
    "##### coarse-grid correction:\n",
    "1. Solve Ae = r on a coarser grid\n",
    "2. This leads to an approximation of the error e\n",
    "3. Add this approximation to the fine-grid solution"
   ]
  },
  {
   "cell_type": "markdown",
   "metadata": {
    "slideshow": {
     "slide_type": "slide"
    }
   },
   "source": [
    "### Components\n",
    "1. smoother: reduce the high-frequency error components, and get a smooth error\n",
    "\n",
    "2. restriction: transfer residual from fine grid to coarse grid, e.g. injection, (full) weighting\n",
    "     \n",
    "3. coarse grid equation: discretisation of the PDE on the coarse grid\n",
    "\n",
    "4. interpolation: transfer coarse grid solution/correction from coarse grid to fine grid\n",
    "\n",
    "Of these components we are only missing the restriction."
   ]
  },
  {
   "cell_type": "markdown",
   "metadata": {
    "slideshow": {
     "slide_type": "slide"
    }
   },
   "source": [
    "# Restriction\n",
    "As for the interpolation many choices of restriction are possible. Perhaps the most intuitive start is injection. Here we simply pick values at corresponding coarse grid points.\n",
    "However, other choices are possible. For example, the so-called full weighting restriction is simply a transpose of our interpolation. In many cases this is a safer, more robust choice.\n"
   ]
  },
  {
   "cell_type": "markdown",
   "metadata": {
    "slideshow": {
     "slide_type": "slide"
    }
   },
   "source": [
    "### For full weighting (1D):\n",
    "$$     \\frac{1}{2}\\left(\\!\\begin{array}{ccccccc}\n",
    "        \\frac{1}{2} & 1 & \\frac{1}{2} & 0 & 0 & 0 & 0\\\\[0.5ex]\n",
    "        0 & 0 & \\frac{1}{2} & 1 & \\frac{1}{2} & 0 & 0\\\\[0.5ex]\n",
    "        0 & 0 & 0 & 0 & \\frac{1}{2} & 1 & \\frac{1}{2}\n",
    "     \\end{array}\\!\\right) \\!\\!\n",
    "     \\left(\\!\\begin{array}{c}\n",
    "        x_1 \\\\ x_2 \\\\ x_3 \\\\ x_4 \\\\ x_5 \\\\ x_6 \\\\ x_7\n",
    "     \\end{array}\\!\\right)\n",
    "     =\n",
    "     \\left(\\!\\begin{array}{c}\n",
    "        \\frac{1}{4} (x_1+2x_2+x_3) \\\\[0.5ex] \n",
    "        \\frac{1}{4} (x_3+2x_4+x_5) \\\\[0.5ex] \n",
    "        \\frac{1}{4} (x_5+2x_6+x_7) \n",
    "     \\end{array}\\!\\right)$$\n",
    "\n",
    "Notation: $I_{h}^{2h} x_{h} = x_{2h}$ or $R_h^{2h} x_h = x_{2h}$\n"
   ]
  },
  {
   "cell_type": "markdown",
   "metadata": {
    "slideshow": {
     "slide_type": "slide"
    }
   },
   "source": [
    "### For full weighting (1D):\n",
    "\n",
    "\n",
    "The restriction matrix is the transpose of the interpolation matrix. Implement this as the function make_restricion, again making sure that the matrix is sparse."
   ]
  },
  {
   "cell_type": "code",
   "execution_count": 13,
   "metadata": {
    "slideshow": {
     "slide_type": "fragment"
    }
   },
   "outputs": [
    {
     "data": {
      "text/plain": [
       "matrix([[1.  , 0.  , 0.  , 0.  , 0.  , 0.  , 0.  , 0.  , 0.  , 0.  ,\n",
       "         0.  , 0.  , 0.  , 0.5 , 0.25, 0.  , 0.5 , 0.  , 0.  , 0.  ],\n",
       "        [0.  , 1.  , 0.  , 0.  , 0.  , 0.  , 0.  , 0.  , 0.  , 0.  ,\n",
       "         0.  , 0.  , 0.  , 0.  , 0.  , 0.  , 0.  , 0.25, 0.5 , 0.5 ],\n",
       "        [0.  , 0.  , 1.  , 0.  , 0.  , 0.  , 0.5 , 0.25, 0.  , 0.5 ,\n",
       "         0.  , 0.  , 0.  , 0.5 , 0.25, 0.  , 0.  , 0.  , 0.  , 0.  ],\n",
       "        [0.  , 0.  , 0.  , 1.  , 0.  , 0.  , 0.  , 0.25, 0.5 , 0.5 ,\n",
       "         0.25, 0.  , 0.5 , 0.  , 0.25, 0.5 , 0.  , 0.25, 0.  , 0.  ],\n",
       "        [0.  , 0.  , 0.  , 0.  , 1.  , 0.  , 0.  , 0.  , 0.  , 0.  ,\n",
       "         0.25, 0.5 , 0.5 , 0.  , 0.  , 0.  , 0.  , 0.25, 0.5 , 0.  ],\n",
       "        [0.  , 0.  , 0.  , 0.  , 0.  , 1.  , 0.  , 0.  , 0.  , 0.  ,\n",
       "         0.  , 0.  , 0.  , 0.  , 0.25, 0.5 , 0.5 , 0.25, 0.  , 0.5 ]])"
      ]
     },
     "execution_count": 13,
     "metadata": {},
     "output_type": "execute_result"
    }
   ],
   "source": [
    "def make_restriction(geometry, level_coarse):\n",
    "    return make_interpolation(geometry, level_coarse).T\n",
    "\n",
    "make_restriction(geometry, level_coarse=level_coarse).todense()"
   ]
  },
  {
   "cell_type": "markdown",
   "metadata": {
    "slideshow": {
     "slide_type": "slide"
    }
   },
   "source": [
    "### Open questions\n",
    "- Are there other methods of computing the coarse grid operator than discretisation?"
   ]
  },
  {
   "cell_type": "markdown",
   "metadata": {
    "slideshow": {
     "slide_type": "slide"
    }
   },
   "source": [
    "# Coarse Grid Operator\n",
    "Next, we use the Galerkin construction of the coarse grid operators.\n",
    "We define the coarse grid operators as\n",
    "$$A^{2h} = R^{h \\to 2h} A^{h} P^{2h \\to ih}$$\n",
    "where $A^{2h}$ is the operator on a grid that's one level smaller than the operator $A^{h}$.\n",
    "$P^{h \\to 2h}$ is the prologation/interpolaton operator that maps a vector from a grid to a grid of the next level and $R^{h \\to 2h}$ is the restriction operator that maps to the next coarser grid.\n"
   ]
  },
  {
   "cell_type": "markdown",
   "metadata": {
    "slideshow": {
     "slide_type": "slide"
    }
   },
   "source": [
    "The data structure is already defined below. You need to fill in the blanks and initialize the variables\n",
    "\n",
    "```\n",
    "coarse_to_fine\n",
    "fine_to_coarse\n",
    "stiffness\n",
    "```\n",
    "\n",
    "You can initialize the stiffness matrices by going from the finest grid backwards and computing the coarser operator from the previously computed matrix."
   ]
  },
  {
   "cell_type": "markdown",
   "metadata": {
    "slideshow": {
     "slide_type": "slide"
    }
   },
   "source": [
    "The coarse grid operators that you get from:\n",
    "- direct discretization on the coarse grid\n",
    "- Galerkin construction\n",
    "\n",
    "should be identical up to a constant."
   ]
  },
  {
   "cell_type": "code",
   "execution_count": 14,
   "metadata": {},
   "outputs": [
    {
     "name": "stdout",
     "output_type": "stream",
     "text": [
      "  (0, 0)\t0.336\n",
      "  (53, 0)\t-0.08399999999999999\n",
      "  (54, 0)\t-0.168\n",
      "  (56, 0)\t-0.08399999999999999\n",
      "  (1, 1)\t2.6693333333333333\n",
      "  (69, 1)\t-1.3346666666666667\n",
      "  (70, 1)\t-0.6673333333333332\n",
      "  (71, 1)\t-0.6673333333333332\n",
      "  (2, 2)\t3.0053333333333336\n",
      "  (27, 2)\t-0.41733333333333333\n",
      "  (28, 2)\t-0.8346666666666668\n",
      "  (30, 2)\t-0.7513333333333334\n",
      "  (46, 2)\t-0.33399999999999996\n",
      "  (47, 2)\t-0.668\n",
      "  (3, 3)\t10.677333333333333\n",
      "  (31, 3)\t-1.3346666666666667\n",
      "  (32, 3)\t-1.418\n",
      "  (33, 3)\t-1.2513333333333332\n",
      "  (40, 3)\t-1.5013333333333334\n",
      "  (42, 3)\t-1.4180000000000001\n",
      "  (50, 3)\t-1.1680000000000001\n",
      "  (51, 3)\t-1.251333333333333\n",
      "  (60, 3)\t-1.3346666666666667\n",
      "  (4, 4)\t7.6720000000000015\n",
      "  (43, 4)\t-2.0013333333333336\n",
      "  :\t:\n",
      "  (58, 68)\t-0.8346666666666668\n",
      "  (66, 68)\t-0.918\n",
      "  (67, 68)\t-1.0013333333333334\n",
      "  (68, 68)\t3.672\n",
      "  (1, 69)\t-1.3346666666666667\n",
      "  (17, 69)\t-1.3346666666666667\n",
      "  (18, 69)\t-1.5013333333333334\n",
      "  (19, 69)\t-1.1680000000000001\n",
      "  (65, 69)\t-1.418\n",
      "  (67, 69)\t-1.2513333333333332\n",
      "  (69, 69)\t10.677333333333333\n",
      "  (70, 69)\t-1.4180000000000001\n",
      "  (71, 69)\t-1.251333333333333\n",
      "  (1, 70)\t-0.6673333333333332\n",
      "  (18, 70)\t-0.7506666666666665\n",
      "  (65, 70)\t-1.5013333333333334\n",
      "  (69, 70)\t-1.4180000000000001\n",
      "  (70, 70)\t5.672\n",
      "  (71, 70)\t-1.3346666666666667\n",
      "  (1, 71)\t-0.6673333333333332\n",
      "  (19, 71)\t-0.5840000000000001\n",
      "  (67, 71)\t-1.1680000000000001\n",
      "  (69, 71)\t-1.251333333333333\n",
      "  (70, 71)\t-1.3346666666666667\n",
      "  (71, 71)\t5.005333333333334\n",
      "  (0, 0)\t0.336\n",
      "  (53, 0)\t-0.08399999999999999\n",
      "  (54, 0)\t-0.168\n",
      "  (56, 0)\t-0.08399999999999999\n",
      "  (1, 1)\t2.6693333333333333\n",
      "  (69, 1)\t-1.3346666666666667\n",
      "  (70, 1)\t-0.6673333333333332\n",
      "  (71, 1)\t-0.6673333333333332\n",
      "  (2, 2)\t3.0053333333333336\n",
      "  (27, 2)\t-0.41733333333333333\n",
      "  (28, 2)\t-0.8346666666666668\n",
      "  (30, 2)\t-0.7513333333333334\n",
      "  (46, 2)\t-0.33399999999999996\n",
      "  (47, 2)\t-0.668\n",
      "  (3, 3)\t10.677333333333333\n",
      "  (31, 3)\t-1.3346666666666667\n",
      "  (32, 3)\t-1.418\n",
      "  (33, 3)\t-1.2513333333333332\n",
      "  (40, 3)\t-1.5013333333333334\n",
      "  (42, 3)\t-1.4180000000000001\n",
      "  (50, 3)\t-1.1680000000000001\n",
      "  (51, 3)\t-1.251333333333333\n",
      "  (60, 3)\t-1.3346666666666667\n",
      "  (4, 4)\t7.6720000000000015\n",
      "  (43, 4)\t-2.0013333333333336\n",
      "  :\t:\n",
      "  (58, 68)\t-0.8346666666666668\n",
      "  (66, 68)\t-0.918\n",
      "  (67, 68)\t-1.0013333333333334\n",
      "  (68, 68)\t3.672\n",
      "  (1, 69)\t-1.3346666666666667\n",
      "  (17, 69)\t-1.3346666666666667\n",
      "  (18, 69)\t-1.5013333333333334\n",
      "  (19, 69)\t-1.1680000000000001\n",
      "  (65, 69)\t-1.418\n",
      "  (67, 69)\t-1.2513333333333332\n",
      "  (69, 69)\t10.677333333333333\n",
      "  (70, 69)\t-1.4180000000000001\n",
      "  (71, 69)\t-1.251333333333333\n",
      "  (1, 70)\t-0.6673333333333332\n",
      "  (18, 70)\t-0.7506666666666665\n",
      "  (65, 70)\t-1.5013333333333334\n",
      "  (69, 70)\t-1.4180000000000001\n",
      "  (70, 70)\t5.672\n",
      "  (71, 70)\t-1.3346666666666667\n",
      "  (1, 71)\t-0.6673333333333332\n",
      "  (19, 71)\t-0.5840000000000001\n",
      "  (67, 71)\t-1.1680000000000001\n",
      "  (69, 71)\t-1.251333333333333\n",
      "  (70, 71)\t-1.3346666666666667\n",
      "  (71, 71)\t5.005333333333334\n",
      "  (0, 0)\t0.5443333333333334\n",
      "  (0, 13)\t-0.1048333333333333\n",
      "  (0, 16)\t-0.1048333333333333\n",
      "  (0, 14)\t-0.33466666666666667\n",
      "  (1, 1)\t2.6693333333333333\n",
      "  (1, 18)\t-0.7298333333333332\n",
      "  (1, 19)\t-0.6048333333333332\n",
      "  (1, 17)\t-1.3346666666666667\n",
      "  (2, 2)\t3.2136666666666667\n",
      "  (2, 6)\t-0.4381666666666666\n",
      "  (2, 7)\t-1.0013333333333334\n",
      "  (2, 9)\t-0.834666666666667\n",
      "  (2, 13)\t-0.2715000000000001\n",
      "  (2, 14)\t-0.6680000000000001\n",
      "  (3, 3)\t10.677333333333335\n",
      "  (3, 7)\t-1.3346666666666667\n",
      "  (3, 8)\t-1.5013333333333332\n",
      "  (3, 9)\t-1.1679999999999997\n",
      "  (3, 10)\t-1.6680000000000001\n",
      "  (3, 12)\t-1.5013333333333332\n",
      "  (3, 14)\t-1.0013333333333334\n",
      "  (3, 15)\t-1.1679999999999997\n",
      "  (3, 17)\t-1.3346666666666667\n",
      "  (4, 4)\t7.4636666666666684\n",
      "  (4, 11)\t-1.0631666666666666\n",
      "  :\t:\n",
      "  (16, 0)\t-0.10483333333333329\n",
      "  (16, 14)\t-0.501333333333333\n",
      "  (16, 15)\t-0.6680000000000001\n",
      "  (16, 5)\t-0.27149999999999996\n",
      "  (17, 17)\t10.677333333333335\n",
      "  (17, 3)\t-1.3346666666666667\n",
      "  (17, 12)\t-1.5013333333333332\n",
      "  (17, 15)\t-1.1679999999999997\n",
      "  (17, 4)\t-1.6680000000000001\n",
      "  (17, 18)\t-1.5013333333333332\n",
      "  (17, 5)\t-1.0013333333333334\n",
      "  (17, 19)\t-1.1679999999999997\n",
      "  (17, 1)\t-1.3346666666666667\n",
      "  (18, 18)\t6.1303333333333345\n",
      "  (18, 4)\t-0.8964999999999994\n",
      "  (18, 12)\t-1.6679999999999997\n",
      "  (18, 17)\t-1.5013333333333327\n",
      "  (18, 19)\t-1.3346666666666667\n",
      "  (18, 1)\t-0.7298333333333334\n",
      "  (19, 19)\t4.547\n",
      "  (19, 5)\t-0.4381666666666667\n",
      "  (19, 15)\t-1.0013333333333334\n",
      "  (19, 17)\t-1.168\n",
      "  (19, 18)\t-1.3346666666666667\n",
      "  (19, 1)\t-0.6048333333333333\n"
     ]
    }
   ],
   "source": [
    "class MultigridStorage:\n",
    "    def __init__(self, discretization, level_min, level_max, stiffness):\n",
    "        self.level_min = level_min\n",
    "        self.level_max = level_max\n",
    "        \n",
    "        self.geometry = discretization.geometry\n",
    "        geometry = discretization.geometry\n",
    "        \n",
    "        number_of_levels = (level_max - level_min + 1)\n",
    "        self.coarse_to_fine = [None] * number_of_levels\n",
    "        self.fine_to_coarse = [None] * number_of_levels\n",
    "        self.stiffness = [None] * number_of_levels\n",
    "        self.stiffness[-1] = stiffness\n",
    "  \n",
    "        for level_index in range(number_of_levels - 1, -1, -1):\n",
    "            level = level_index + level_min\n",
    "            self.coarse_to_fine[level_index] = \\\n",
    "                make_interpolation(geometry, level_coarse=level-1)\n",
    "            self.fine_to_coarse[level_index] = make_restriction(geometry, level_coarse=level-1)\n",
    "            if level != level_max:\n",
    "                interpolation = make_interpolation(geometry, level_coarse=level)\n",
    "                restriction = make_restriction(geometry, level_coarse=level)\n",
    "                self.stiffness[level_index] = \\\n",
    "                 restriction * self.stiffness[level_index+1] * interpolation\n",
    "                discretization_coarse = fem.Discretization(geometry, level=level, eval_k=discretization.eval_k)\n",
    "                print(self.stiffness[level_index+1])\n",
    "                \n",
    "level = 3\n",
    "geometry = Geometry(level=level)\n",
    "\n",
    "eval_k = lambda x, y: x + y + 0.001\n",
    "discretization = fem.Discretization(geometry, level=level, eval_k=eval_k)\n",
    "stiffness = discretization.setup_stiffness()\n",
    "print(stiffness)\n",
    "rhs = discretization.setup_rhs()\n",
    "sol = splinalg.linsolve.spsolve(stiffness, rhs)\n",
    "\n",
    "storage = MultigridStorage(discretization, level_min=1, level_max=level, stiffness=stiffness)"
   ]
  },
  {
   "cell_type": "markdown",
   "metadata": {
    "slideshow": {
     "slide_type": "slide"
    }
   },
   "source": [
    "# Outlook: Multigrid\n",
    "\n",
    "- Generalise the two grid method to an arbitrary number of grids\n",
    "- Structure remain: smooth $\\rightarrow$ restrict $\\rightarrow$ interpolate (repeat)\n",
    "- V-cycle: recursive call of Two-/Multigrid solver on coarse grids\n",
    "- W-cycle: perform two coarse grid correction steps instead of one"
   ]
  },
  {
   "cell_type": "markdown",
   "metadata": {
    "slideshow": {
     "slide_type": "slide"
    }
   },
   "source": [
    "# V-Cycle\n",
    "We use the following recursive algorithm do define one v-cycle (see A multigrid tutorial Chapter 3 for more details).\n",
    "The vcycle operator $V^h$ for a grid with spacing $h$, initial guess $v^h$ and right-hand-side $f^h$ is\n",
    "$$v^h = V^h(v^h,f^h)$$\n",
    "\n",
    "1. Relax $s_1$ times on $A^h u^h = f^h$\n",
    "2. If already coarsest grid, go to step 5 (no further iteration possible).\n",
    "3. Else:\n",
    "\n",
    "    (Setup rhs for residual equation)\n",
    "\n",
    "    $$f^{2h} = R^{2h \\to h} (f^h - A^h v^h)$$\n",
    "    \n",
    "    (Set initial guess for update to zero)\n",
    "    \n",
    "    $$v^{2h} = 0$$\n",
    "    \n",
    "    (Call vcycle recursively.)\n",
    "    \n",
    "    $$v^{2h} = V^{2h} (v^{2h}, f^{2h})$$\n",
    "\n",
    "4. Correct $$v^h = v^h +P^{2h \\to h} v^{2h} $$\n",
    "5. Relax $s_2$ times on $A^h u^h = f^h$ with initial guess $v^h$."
   ]
  },
  {
   "cell_type": "code",
   "execution_count": 28,
   "metadata": {
    "slideshow": {
     "slide_type": "slide"
    }
   },
   "outputs": [],
   "source": [
    "def v_cycle(storage, level, rhs, unknowns):\n",
    "    level_index = level - storage.level_min\n",
    "    restriction = storage.fine_to_coarse[level_index]\n",
    "    stiffness = storage.stiffness[level_index]\n",
    "    unknowns = jacobiRelaxation(A=stiffness, b=rhs, x0=unknowns, max_iter=5)\n",
    "    if level != storage.level_min:\n",
    "        residual_fine = (rhs - stiffness @ unknowns)\n",
    "        rhs_coarse = restriction @ residual_fine\n",
    "        unknowns_coarse = np.zeros(storage.geometry.data_size_per_level[level_index])\n",
    "\n",
    "        update = v_cycle(storage, level-1, rhs=rhs_coarse, unknowns=unknowns_coarse)\n",
    "        # Correct\n",
    "        unknowns += storage.coarse_to_fine[level_index] @ update\n",
    "    # Don't forget relaxation here!\n",
    "    unknowns = jacobiRelaxation(A=stiffness, b=rhs, x0=unknowns, max_iter=5)\n",
    "    return unknowns"
   ]
  },
  {
   "cell_type": "code",
   "execution_count": 29,
   "metadata": {
    "slideshow": {
     "slide_type": "slide"
    }
   },
   "outputs": [
    {
     "name": "stdout",
     "output_type": "stream",
     "text": [
      "Residual after 1 \titerations = 0.01123717141499085,\tError = 0.0591577670454656\n",
      "Residual after 2 \titerations = 0.00025070954823932357,\tError = 0.0012945051719702183\n",
      "Residual after 3 \titerations = 5.703650933277333e-06,\tError = 2.8899049816490047e-05\n",
      "Residual after 4 \titerations = 1.3148487348095513e-07,\tError = 6.518836940673403e-07\n",
      "Residual after 5 \titerations = 3.0486964131923956e-09,\tError = 1.4794207733308595e-08\n",
      "Residual after 6 \titerations = 7.081821429586213e-11,\tError = 3.370280039867232e-10\n",
      "Residual after 7 \titerations = 1.6443444356429967e-12,\tError = 7.698919102860065e-12\n",
      "Residual after 8 \titerations = 3.776610666952659e-14,\tError = 1.793905153913528e-13\n",
      "Residual after 9 \titerations = 2.4834746228126217e-15,\tError = 7.988906186398164e-15\n",
      "Residual after 10 \titerations = 2.210448884030214e-15,\tError = 4.471189775521543e-15\n"
     ]
    }
   ],
   "source": [
    "# Zero initial guess\n",
    "unknowns = np.zeros(geometry.data_size_per_level[storage.level_max])\n",
    "for cycle in range(10):\n",
    "    unknowns = v_cycle(storage, level=storage.level_max, rhs=rhs, unknowns=unknowns)\n",
    "    print(\"Residual after {} \\titerations = {},\\tError = {}\".\n",
    "          format(\n",
    "          (cycle+1),\n",
    "          compute_residual(stiffness, unknowns, rhs),\n",
    "          np.linalg.norm(sol - unknowns)\n",
    "          ))"
   ]
  },
  {
   "cell_type": "code",
   "execution_count": 17,
   "metadata": {
    "slideshow": {
     "slide_type": "slide"
    }
   },
   "outputs": [
    {
     "data": {
      "image/png": "[encoded data removed]",
      "text/plain": [
       "<Figure size 1296x576 with 4 Axes>"
      ]
     },
     "metadata": {
      "needs_background": "light"
     },
     "output_type": "display_data"
    }
   ],
   "source": [
    "plot_solution(geometry, discretization, unknowns,level=level)"
   ]
  },
  {
   "cell_type": "code",
   "execution_count": 18,
   "metadata": {
    "slideshow": {
     "slide_type": "slide"
    }
   },
   "outputs": [
    {
     "data": {
      "image/png": "[encoded data removed]",
      "text/plain": [
       "<Figure size 1296x576 with 4 Axes>"
      ]
     },
     "metadata": {
      "needs_background": "light"
     },
     "output_type": "display_data"
    }
   ],
   "source": [
    "# Compare to \"exact\" solution\n",
    "plot_solution(geometry, discretization, sol, level)"
   ]
  },
  {
   "cell_type": "code",
   "execution_count": 19,
   "metadata": {
    "slideshow": {
     "slide_type": "slide"
    }
   },
   "outputs": [
    {
     "name": "stdout",
     "output_type": "stream",
     "text": [
      "Residual after 100 \titerations = 0.05290435257980684,\tError = 0.3179528359672832\n",
      "Residual after 200 \titerations = 0.006190775870424455,\tError = 0.03720218720452154\n",
      "Residual after 300 \titerations = 0.0007243800651490802,\tError = 0.004353011705353238\n",
      "Residual after 400 \titerations = 8.47593986450789e-05,\tError = 0.0005093440200138974\n",
      "Residual after 500 \titerations = 9.917660636429444e-06,\tError = 5.959812385057531e-05\n",
      "Residual after 600 \titerations = 1.160461188527307e-06,\tError = 6.973550738735959e-06\n",
      "Residual after 700 \titerations = 1.3578506229382944e-07,\tError = 8.159721623424427e-07\n",
      "Residual after 800 \titerations = 1.588815137876132e-08,\tError = 9.547655213002965e-08\n",
      "Residual after 900 \titerations = 1.8590651648912637e-09,\tError = 1.1171672044306658e-08\n",
      "Residual after 1000 \titerations = 2.1752786358978566e-10,\tError = 1.3071940960414796e-09\n"
     ]
    }
   ],
   "source": [
    "initial = np.zeros(geometry.data_size_per_level[storage.level_max])\n",
    "for it in range(10):\n",
    "    unknowns = jacobiRelaxation(A=stiffness, x0=initial, b=rhs, max_iter=100*(it+1))\n",
    "    print(\"Residual after {} \\titerations = {},\\tError = {}\".\n",
    "          format(\n",
    "          (it+1) * 100,\n",
    "          compute_residual(stiffness, unknowns, rhs),\n",
    "          np.linalg.norm(sol - unknowns)\n",
    "          ))"
   ]
  },
  {
   "cell_type": "code",
   "execution_count": 20,
   "metadata": {
    "slideshow": {
     "slide_type": "slide"
    }
   },
   "outputs": [
    {
     "data": {
      "image/png": "[encoded data removed]",
      "text/plain": [
       "<Figure size 1296x576 with 4 Axes>"
      ]
     },
     "metadata": {
      "needs_background": "light"
     },
     "output_type": "display_data"
    }
   ],
   "source": [
    "plot_solution(geometry, discretization, unknowns, level)"
   ]
  },
  {
   "cell_type": "markdown",
   "metadata": {
    "slideshow": {
     "slide_type": "slide"
    }
   },
   "source": [
    "## Speed of Convergence for multigrid\n",
    "\n",
    "Multigrid is currently the fastest method around (if all components are chosen carefully), but in practice the best-possible convergence is  often hard to obtain.  \n",
    "\n"
   ]
  },
  {
   "cell_type": "markdown",
   "metadata": {
    "slideshow": {
     "slide_type": "slide"
    }
   },
   "source": [
    "### textbook multigrid efficiency:\n",
    "$$ \\left\\| e^{(m+1)} \\right\\| \\le \\gamma \\left\\| e^{(m)} \\right\\|,$$\n",
    "where the convergence rate $\\gamma < 1$ (esp. $\\gamma \\ll 1$) is independent of the number of unknowns.\n",
    "This means in particular, that a constant number of multigrid steps is needed to obtain a given number of digits of accuracy and that the overall computational work increases only linearly with the number of unknowns.\n",
    "\n",
    "For the simpler model problem we have looked at, the Poisson Problem:\n",
    "- $\\mathcal{O}(n)$ to solve until we have reduced the error by a factor of ...'' ($10^{-8}$, e.g.)\n",
    "\n",
    "- In many cases we want to solve to an error depending on discretisation error instead. For example $\\mathcal{O}(h^2)$. In this case we can solve coarse problems less accurately.\n"
   ]
  },
  {
   "cell_type": "markdown",
   "metadata": {
    "slideshow": {
     "slide_type": "slide"
    }
   },
   "source": [
    "## Speed of Convergence for multigrid\n",
    "\n",
    "For other problems:\n",
    "- OK for strongly elliptic problems\n",
    "- multigrid variants exist for non-linear problems, parabolic/hyperbolic, ...\n",
    "- every component may fail, leading to slow or no convergence: smoother, interpolation/restriction, coarse-grid operator\n",
    "\n",
    "Thus, achieving \"textbook efficiency\" for a new problem is usually a demanding task."
   ]
  },
  {
   "cell_type": "markdown",
   "metadata": {
    "slideshow": {
     "slide_type": "slide"
    }
   },
   "source": [
    "## V-Cycle -- Computational Costs\n",
    "\n",
    "In order to compute the computational cost of a V-cycle we must first hold down some assumptions:\n",
    "- the number of unknowns on the coarsest grid is very small, ideally $\\mathcal{O}(1)$\n",
    "- number of smoothing steps is typically very small (1 or 2) and must not depend on problem size"
   ]
  },
  {
   "cell_type": "markdown",
   "metadata": {
    "slideshow": {
     "slide_type": "slide"
    }
   },
   "source": [
    "### Computational Costs (storage and computing time):\n",
    "- 1D: $c\\cdot n+c\\cdot n/2+c\\cdot n/4+\\ldots\\leq2c\\cdot n$\n",
    "\n",
    "- 2D: $c\\cdot n+c\\cdot n/4+c\\cdot n/16+\\ldots\\leq4/3c\\cdot n$\n",
    "\n",
    "- 3D: $c\\cdot n+c\\cdot n/8+c\\cdot n/64+\\ldots\\leq8/7c\\cdot n$\n",
    "\n",
    " here $n$ the number of grid points on the finest grid: typicall $n = h^{-D}$"
   ]
  },
  {
   "cell_type": "markdown",
   "metadata": {
    "slideshow": {
     "slide_type": "slide"
    }
   },
   "source": [
    "\n",
    "Overall the costs are dominated by the costs of the finest grid.\n",
    "\n",
    "Thus: runtime $\\mathcal{O}(n)$ per iteration, but how many iterations necessary?\n",
    "\n",
    "From our previous note on convergence we know that this number is problem-dependent, but independent of the number of unknowns (under some additional assumputions)!"
   ]
  },
  {
   "cell_type": "markdown",
   "metadata": {
    "slideshow": {
     "slide_type": "slide"
    }
   },
   "source": [
    "# The W-cycle\n",
    "In some cases the coarse grid correction may not be sufficiently accurate. Here we want to spend more time on the coarse grid. This means we perform two coarse grid correction steps instead of one.\n",
    "\n",
    "<img src=vcycle.png></img>\n",
    "\n",
    "*Note:* this is just one small change to the V-cycle"
   ]
  },
  {
   "cell_type": "markdown",
   "metadata": {
    "slideshow": {
     "slide_type": "slide"
    }
   },
   "source": [
    "# The Full Multigrid V-Cycle (FMV- or F-Cycle)\n",
    "\n",
    "Another alternative to the V and W-cycles, is the so-called full-multigrid V-cycle or F-cycle. This is given by a recursive algorithm. It is essentially just a combination of the nested iteration and a V-cycle. We (recursively!) perform an FMV-cycle on the next coarser grid to \n",
    "        get a good initial solution. Then we interpolate this initial guess to the current grid and finally perform a V-cycle to improve the solution\n",
    "\n",
    "<img src=fullcycle.png></img>\n",
    "\n"
   ]
  },
  {
   "cell_type": "code",
   "execution_count": null,
   "metadata": {},
   "outputs": [],
   "source": []
  }
 ],
 "metadata": {
  "celltoolbar": "Slideshow",
  "jupytext": {
   "formats": "ipynb"
  },
  "kernelspec": {
   "display_name": "Python 3 (ipykernel)",
   "language": "python",
   "name": "python3"
  },
  "language_info": {
   "codemirror_mode": {
    "name": "ipython",
    "version": 3
   },
   "file_extension": ".py",
   "mimetype": "text/x-python",
   "name": "python",
   "nbconvert_exporter": "python",
   "pygments_lexer": "ipython3",
   "version": "3.8.10"
  },
  "rise": {
   "autolaunch": true,
   "enable_chalkboard": true,
   "scroll": true,
   "theme": "white"
  }
 },
 "nbformat": 4,
 "nbformat_minor": 2
}
