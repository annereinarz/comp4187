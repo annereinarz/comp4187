{
 "cells": [
  {
   "cell_type": "markdown",
   "metadata": {
    "slideshow": {
     "slide_type": "slide"
    }
   },
   "source": [
    "# Parallel Scientific Computing II\n",
    "\n",
    "## Solving Systems of Linear Equations\n",
    "\n",
    "    \n",
    "#### Anne Reinarz"
   ]
  },
  {
   "cell_type": "markdown",
   "metadata": {
    "slideshow": {
     "slide_type": "slide"
    }
   },
   "source": [
    "# Overview\n",
    "\n",
    "### Always thinking of\n",
    "- large systems: $10^6 - 10^9$  unknowns\n",
    "- sparse systems: typically only $O(N)$ non-zeros in the system matrix ($N$ unknowns)\n",
    "- systems resulting from the discretization of PDEs\n"
   ]
  },
  {
   "cell_type": "markdown",
   "metadata": {
    "slideshow": {
     "slide_type": "slide"
    }
   },
   "source": [
    "# PDE Operator $\\leftrightarrow$ Linear System\n",
    "\n",
    "### Many methods for discretising PDE operators exist:\n",
    "- Finite Differences\n",
    "- Finite Volume Methods\n",
    "- Finite Element Methods\n",
    "- Discontinuous Galerkin\n",
    "\n",
    "### All transform a PDE into a linear system to be solved\n"
   ]
  },
  {
   "cell_type": "markdown",
   "metadata": {
    "cell_style": "center",
    "slideshow": {
     "slide_type": "slide"
    }
   },
   "source": [
    "# Iterative Solvers vs. Direct Solvers for sparse systems\n",
    "\n",
    "## Direct Solvers\n",
    "- Gaussian elimination $O(N^2)$,  $N$ degrees of freedom\n",
    "- highly optimised sparse direct solvers can reach $O(N^{3/2})$\n",
    "- without round-off errors, direct methods give an exact solution "
   ]
  },
  {
   "cell_type": "markdown",
   "metadata": {
    "cell_style": "center",
    "slideshow": {
     "slide_type": "slide"
    }
   },
   "source": [
    "# Iterative Solvers vs. Direct Solvers for sparse systems\n",
    "\n",
    "## Iterative Solvers\n",
    "- consist only of matrix-vector products\n",
    "- can easily achieve $O(N)$ for many problem types\n",
    "- give an approximate solution "
   ]
  },
  {
   "cell_type": "markdown",
   "metadata": {
    "slideshow": {
     "slide_type": "slide"
    }
   },
   "source": [
    "# Iterative Solvers\n",
    "\n",
    "- start with an initial guess for the solution, e.g. zero\n",
    "- create a sequence approximate solutions, each improving on the previous one\n",
    "- stop when the required tolerance has been reached\n"
   ]
  },
  {
   "cell_type": "markdown",
   "metadata": {
    "slideshow": {
     "slide_type": "slide"
    }
   },
   "source": [
    "# Iterative Solvers\n",
    "\n",
    "- We want to solve a linear system of equations\n",
    "$$Ax = b~~~~~~~~~~~~~~~~~~~~~~~~~~~~~~~~~~~~$$ \n",
    "by finding a sequence of approximate solutions $x^{(k)}$ that converge to the true solution $x$\n",
    "\n",
    "- The error is given by\n",
    "$$e^{(k)} := x - x^{(k)}~~~~~~~~~~~~~~~~~~~~~~~~~~$$"
   ]
  },
  {
   "cell_type": "markdown",
   "metadata": {
    "slideshow": {
     "slide_type": "slide"
    }
   },
   "source": [
    "# Iterative Solvers: Residuals\n",
    "\n",
    "### Residual\n",
    "$$r^{(k)} := b - Ax^{(x)}$$\n",
    "\n",
    "- Relationship between residual and error\n",
    "$$r^{(k)} := b - Ax^{(x)} = Ax - Ax^{(k)} = A(x-x^{(k)})= Ae^{(k)}$$\n",
    "\n",
    "- Residual equation\n",
    "$$r^{(k)} = Ae^{(k)}$$\n"
   ]
  },
  {
   "cell_type": "markdown",
   "metadata": {
    "slideshow": {
     "slide_type": "slide"
    }
   },
   "source": [
    "# Iterative Solvers: Residuals\n",
    "\n",
    "#### Note: \n",
    "- The residual is known (only uses known quantities\n",
    "- The error is not known (we do not know the solution $x$)\n",
    "- Residual can be used as an indicator for the size of the error"
   ]
  },
  {
   "cell_type": "markdown",
   "metadata": {
    "slideshow": {
     "slide_type": "slide"
    }
   },
   "source": [
    "# Iterative Solvers: Residuals\n",
    "\n",
    "- From now on we always work with the residual equation $r^{(k)}=Ae^{(k)}$ instead of $Ax^{(k)}=b$<br> We approximate the error $e^{(k)}$ in each step<br>This gives updates $x^{(k+1)} = x^{(k)} + \\tilde e^{(k)}$\n",
    "- where $\\tilde e^{(k)}$ is an approximation of the error at this step"
   ]
  },
  {
   "cell_type": "markdown",
   "metadata": {
    "slideshow": {
     "slide_type": "slide"
    }
   },
   "source": [
    "# Iterative Solvers: Residuals\n",
    "\n",
    "- How to compute the approximations $\\tilde e^{(k)}$ using the residual equation?"
   ]
  },
  {
   "cell_type": "markdown",
   "metadata": {
    "slideshow": {
     "slide_type": "slide"
    }
   },
   "source": [
    "# Iterative Solvers: Residuals\n",
    "\n",
    "#### Idea: Solve an easier equation instead\n",
    "\n",
    "- Introduce a matrix $B$, such that \n",
    "    1. $B$ is easy to invert, e.g. a diagonal matrix\n",
    "    2. $B$ is similar to $A$ in some sense $A\\sim B$\n"
   ]
  },
  {
   "cell_type": "markdown",
   "metadata": {
    "slideshow": {
     "slide_type": "slide"
    }
   },
   "source": [
    "# Iterative Solvers: Residuals\n",
    "\n",
    "#### Idea: Solve an easier equation instead\n",
    "\n",
    "- Then solve the residual equation for $B$\n",
    "$$B\\hat e^{(k)} = r^{(k)}$$\n",
    "- Use $\\hat e^{(k)}$ as an approximation to $e^{(k)}$\n",
    "- Set $x^{(k+1)} = x^{(k)} + \\hat e^{(k)}$"
   ]
  },
  {
   "cell_type": "markdown",
   "metadata": {
    "slideshow": {
     "slide_type": "slide"
    }
   },
   "source": [
    "# Relaxation\n",
    "\n",
    "### How should we choose B?\n",
    "- $B$ should be “similar” to $A$, i.e. $B \\sim A$\n",
    "- more precisely $B^{-1} \\approx A^{-1}$\n",
    "    - or at least $B^{-1}y \\approx A^{-1}y$ for most vectors $y$\n",
    "- The residual equation $Be = r$ should be easy/fast to solve\n"
   ]
  },
  {
   "cell_type": "markdown",
   "metadata": {
    "slideshow": {
     "slide_type": "slide"
    }
   },
   "source": [
    "# Relaxation\n",
    "\n",
    "### Examples:\n",
    "- $B = diag(A) = D_A$ (diagonal part of A)\n",
    "     - Jacobi method (“Jacobi relaxation”)\n",
    "- $B = L_A$ (lower triangular part of A)\n",
    "     - Gauss-Seidel method (“Gauss-Seidel relaxation”)"
   ]
  },
  {
   "cell_type": "markdown",
   "metadata": {
    "slideshow": {
     "slide_type": "slide"
    }
   },
   "source": [
    "# Jacobi Relaxation\n",
    "\n",
    "#### For $k=1...$\n",
    "- Solve $D_A \\hat e^{(k)} = r^{(k)}$\n",
    "- Update $x^{(k+1)} = x^{(k)} + \\hat e^{(k)}$\n",
    "- Update residual $r^{(k+1)} = b - Ax^{(k+1)}$\n",
    "\n"
   ]
  },
  {
   "cell_type": "markdown",
   "metadata": {
    "slideshow": {
     "slide_type": "slide"
    }
   },
   "source": [
    "# Jacobi Relaxation\n",
    "\n",
    "### or, more compactly:\n",
    "- $x^{(k+1)} = x^{(k)} + D_A^{-1} r^{(k)} = x^{(k)} + D_A^{-1} (b − Ax^{(k)})$\n"
   ]
  },
  {
   "cell_type": "markdown",
   "metadata": {
    "slideshow": {
     "slide_type": "slide"
    }
   },
   "source": [
    "# Jacobi Relaxation\n",
    "\n",
    "\n",
    "### for analysis:\n",
    "- $x^{(k+1)} = (I - D_A^{-1} A) x^{(k )} + D_A^{-1} b =: Mx^{(k )} + Nb$\n",
    "- where $I$ is the identity matrix,\n",
    "- $M= I - D_A^{-1} A$ and $N= D_A^{-1}$"
   ]
  },
  {
   "cell_type": "code",
   "execution_count": 1,
   "metadata": {
    "slideshow": {
     "slide_type": "slide"
    }
   },
   "outputs": [],
   "source": [
    "import numpy as np\n",
    "import numpy.matlib\n",
    "import matplotlib.pyplot as plt\n",
    "from scipy.sparse import diags\n",
    "from ipywidgets import interact, FloatSlider, IntSlider\n",
    "\n",
    "from IPython.display import display, clear_output\n",
    "\n",
    "fig, ax = plt.subplots()\n",
    "plt.close(fig)\n",
    "\n",
    "def plotSol(Y):\n",
    "    # use same y scale for all offsets\n",
    "    X = np.linspace(0,1,Y.size)\n",
    "    ax.clear();\n",
    "    ax.set_xlim([0, 1])\n",
    "    ax.plot(X, Y);\n",
    "    display(fig)\n",
    "    \n",
    "def plotSol1(Y):\n",
    "    # use same y scale for all offsets\n",
    "    X = np.linspace(0,1,Y.size)\n",
    "    ax.clear();\n",
    "    ax.set_ylim([0, 1.1])\n",
    "    ax.set_xlim([0,1])\n",
    "    ax.plot(X, Y, marker='*');\n",
    "    display(fig)\n",
    "    \n",
    "def plotSol2(Y, Y2):\n",
    "    # use same y scale for all offsets\n",
    "    Y.reshape(-1,1)\n",
    "    Y2.reshape(-1,1)\n",
    "    X = np.linspace(0,1,Y.size)\n",
    "    #print(\"Y\",Y)\n",
    "    #print(Y2)\n",
    "    ax.clear();\n",
    "    ax.set_ylim([0, 1.1])\n",
    "    ax.set_xlim([0,1])\n",
    "    ax.plot(X, Y, marker='*');\n",
    "    ax.plot(X, Y2, marker='*');\n",
    "    display(fig)\n",
    "\n",
    "N=100; h=1/N"
   ]
  },
  {
   "cell_type": "markdown",
   "metadata": {
    "slideshow": {
     "slide_type": "slide"
    }
   },
   "source": [
    "# Jacobi Relaxation: Code Example\n",
    "\n",
    "#### Let's start by defining a problem\n",
    "- We want to solve $Ax=b$\n",
    "#### 2 Examples:"
   ]
  },
  {
   "cell_type": "code",
   "execution_count": 3,
   "metadata": {
    "slideshow": {
     "slide_type": "fragment"
    }
   },
   "outputs": [],
   "source": [
    "diagonals1 = [-np.ones(N-1), 2*np.ones(N), -np.ones(N-1)]\n",
    "A1 = diags(diagonals1, [-1, 0, 1]).toarray()/h/h\n",
    "diagonals2 = [-np.ones(N-1), 2.1*np.ones(N), -np.ones(N-1)]\n",
    "A2 = diags(diagonals2, [-1, 0, 1]).toarray()/h/h"
   ]
  },
  {
   "cell_type": "markdown",
   "metadata": {
    "slideshow": {
     "slide_type": "fragment"
    }
   },
   "source": [
    "#### Random Right-hand side"
   ]
  },
  {
   "cell_type": "code",
   "execution_count": 5,
   "metadata": {
    "slideshow": {
     "slide_type": "fragment"
    }
   },
   "outputs": [],
   "source": [
    "b = 20*np.matlib.rand(N,1)"
   ]
  },
  {
   "cell_type": "markdown",
   "metadata": {
    "slideshow": {
     "slide_type": "slide"
    }
   },
   "source": [
    "# Jacobi Relaxation: Code Example\n",
    "\n",
    "#### Next let's have a look at the solution (using a direct solver)"
   ]
  },
  {
   "cell_type": "code",
   "execution_count": 7,
   "metadata": {
    "slideshow": {
     "slide_type": "fragment"
    }
   },
   "outputs": [
    {
     "data": {
      "image/png": "[encoded data removed]",
      "text/plain": [
       "<Figure size 432x288 with 1 Axes>"
      ]
     },
     "metadata": {},
     "output_type": "display_data"
    }
   ],
   "source": [
    "Y = np.linalg.solve(A2,b)                                # solve system for A1 or A2\n",
    "Y = np.vstack((np.array([[0]]),Y,np.array([[0]])));      # add Dirichlet boundary\n",
    "plotSol(Y)"
   ]
  },
  {
   "cell_type": "code",
   "execution_count": 8,
   "metadata": {
    "slideshow": {
     "slide_type": "fragment"
    }
   },
   "outputs": [],
   "source": [
    "#Acquire exact solutions\n",
    "ex1 = np.linalg.solve(A1,b)                                # solve system\n",
    "Y1 = np.vstack((np.array([[0]]),ex1,np.array([[0]])));      # add Dirichlet boundary\n",
    "ex2 = np.linalg.solve(A2,b)                                # solve system\n",
    "Y2 = np.vstack((np.array([[0]]),ex2,np.array([[0]])));      # add Dirichlet boundary"
   ]
  },
  {
   "cell_type": "markdown",
   "metadata": {
    "slideshow": {
     "slide_type": "slide"
    }
   },
   "source": [
    "# Jacobi Relaxation: Code Example\n",
    "\n",
    "#### Next we implement the Jacobi Smoother"
   ]
  },
  {
   "cell_type": "code",
   "execution_count": 11,
   "metadata": {
    "slideshow": {
     "slide_type": "fragment"
    }
   },
   "outputs": [],
   "source": [
    "def jacobiRelaxation(A, b, x0, maxIter):\n",
    "    D = np.diag(np.diag(A))          # Define D_A\n",
    "    D_inv = np.diag(1 / np.diag(D))  # precompute inverse\n",
    "    x = x0\n",
    "    for i in range(maxIter):\n",
    "        x_new = np.dot(D_inv, b - np.dot(A-D, x)) # Jacobi Relaxation\n",
    "        if(i == maxIter-1):\n",
    "            print(\"Residual\", np.linalg.norm(b - np.dot(A,x_new)))\n",
    "        x = x_new\n",
    "    return x"
   ]
  },
  {
   "cell_type": "markdown",
   "metadata": {
    "slideshow": {
     "slide_type": "slide"
    }
   },
   "source": [
    "# Jacobi Relaxation: Code Example"
   ]
  },
  {
   "cell_type": "code",
   "execution_count": 13,
   "metadata": {
    "slideshow": {
     "slide_type": "fragment"
    }
   },
   "outputs": [
    {
     "data": {
      "application/vnd.jupyter.widget-view+json": {
       "model_id": "68571f235fa7495c90eaa20e4c41c068",
       "version_major": 2,
       "version_minor": 0
      },
      "text/plain": [
       "interactive(children=(IntSlider(value=1, description='maxIter', max=300, min=1, step=10), Output()), _dom_clas…"
      ]
     },
     "metadata": {},
     "output_type": "display_data"
    }
   ],
   "source": [
    "def solveAndPlot(maxIter):\n",
    "    x0 = np.zeros(N).reshape(-1,1)    # initial guess\n",
    "    Y = jacobiRelaxation(A1,b,x0,maxIter);\n",
    "    Y = np.vstack((np.array([[0]]),Y,np.array([[0]])))\n",
    "    plotSol(abs(Y-Y1)) # Plot error\n",
    "interactive_plot = interact(solveAndPlot, maxIter=IntSlider(min=1, max=300, step=10));"
   ]
  },
  {
   "cell_type": "markdown",
   "metadata": {
    "slideshow": {
     "slide_type": "slide"
    }
   },
   "source": [
    "# Jacobi Relaxation\n",
    "\n",
    "#### Implementation\n",
    "- additional storage required (x_new)\n",
    "- x, x_new can be computed in any order (and in parallel)\n",
    "\n",
    "#### Properties\n",
    "- matrix $A$ needs to be diagonally dominant"
   ]
  },
  {
   "cell_type": "markdown",
   "metadata": {
    "slideshow": {
     "slide_type": "slide"
    }
   },
   "source": [
    "# Gauss-Seidel Relaxation\n",
    "\n",
    "- Same general algorithm as Jacobi, but replace diagonal of A with lower triangular part of A\n",
    "    - B = L_A (lower triangular part of A)\n",
    "- Inverting B is expensive\n",
    "- <em>but</em>: Computing y with $By = b$ is cheap\n",
    "    - Use forward substitition to compute y\n",
    "$$y_1 = \\frac{b_1}{A_{11}},~ y_2 = \\frac{b_2 - A_{21} x_1}{A_{22}},~  \\dots , ~\n",
    "  y_m = \\frac{b_m - \\sum_{i=1}^{m-1} A_{mi}x_i}{A_{mm}}.$$"
   ]
  },
  {
   "cell_type": "markdown",
   "metadata": {
    "slideshow": {
     "slide_type": "slide"
    }
   },
   "source": [
    "# Gauss-Seidel Relaxation\n",
    "#### Iteration formulas in matrix-vector notation:\n",
    "- $ x^{(k+1)} = x^{(k)} + L_A^{-1} r^{(k)}\n",
    "                   = x^{(k)} + L_A^{-1} \\left( b - A x^{(k)} \\right)$\n"
   ]
  },
  {
   "cell_type": "markdown",
   "metadata": {
    "slideshow": {
     "slide_type": "slide"
    }
   },
   "source": [
    "# Gauss-Seidel Relaxation\n",
    "#### Iteration formulas in matrix-vector notation:\n",
    "- $ x^{(k+1)} = x^{(k)} + L_A^{-1} r^{(k)}\n",
    "                   = x^{(k)} + L_A^{-1} \\left( b - A x^{(k)} \\right)$\n",
    "\n",
    "#### for implementation:\n",
    "- After inserting substition rule: \n",
    "$x^{(k+1)}_m = A_{mm}^{-1}\\left(b_m - \\sum_{i=1}^{N}A_{mi}x^{(k)}_i + A_{mm}x^{(k)}_m \\right)$\n",
    "\n"
   ]
  },
  {
   "cell_type": "markdown",
   "metadata": {
    "slideshow": {
     "slide_type": "slide"
    }
   },
   "source": [
    "# Gauss-Seidel Relaxation\n",
    "\n",
    "#### for analysis:\n",
    "- $x^{(k+1)} = \\left( I - L_A^{-1}A \\right) x^{(k)}  + L_A^{-1} b\n",
    "                   =: M x^{(k)} + N b$\n"
   ]
  },
  {
   "cell_type": "markdown",
   "metadata": {
    "slideshow": {
     "slide_type": "slide"
    }
   },
   "source": [
    "# Gauss-Seidel Relaxation: Code Example"
   ]
  },
  {
   "cell_type": "code",
   "execution_count": 14,
   "metadata": {
    "slideshow": {
     "slide_type": "fragment"
    }
   },
   "outputs": [],
   "source": [
    "def gaussSeidelRelaxation(A, b, x0, maxIter):\n",
    "    x = x0  # initial guess\n",
    "    res = b - np.dot(A,x)                        # initial residual\n",
    "    for i in range(maxIter):\n",
    "        for j in range(0,N):\n",
    "            x[j] = (1/A[j,j]) * (b[j] - np.dot(A[j,:],x) + A[j,j]*x[j]); # forward substitution and update\n",
    "        res = b - np.dot(A,x)  \n",
    "        if(i == maxIter-1):\n",
    "            print(\"Residual\", np.linalg.norm(res)) \n",
    "    return x"
   ]
  },
  {
   "cell_type": "markdown",
   "metadata": {
    "slideshow": {
     "slide_type": "slide"
    }
   },
   "source": [
    "# Gauss-Seidel Relaxation: Code Example"
   ]
  },
  {
   "cell_type": "code",
   "execution_count": 15,
   "metadata": {
    "slideshow": {
     "slide_type": "fragment"
    }
   },
   "outputs": [
    {
     "data": {
      "application/vnd.jupyter.widget-view+json": {
       "model_id": "5eefe29051ca4ca089b39d2dfcfb5bc6",
       "version_major": 2,
       "version_minor": 0
      },
      "text/plain": [
       "interactive(children=(IntSlider(value=1, description='maxIter', max=300, min=1, step=10), Output()), _dom_clas…"
      ]
     },
     "metadata": {},
     "output_type": "display_data"
    }
   ],
   "source": [
    "def solveAndPlot(maxIter):\n",
    "    x0 = np.zeros(N).reshape(-1,1)    # initial guess\n",
    "    Y = gaussSeidelRelaxation(A2,b,x0,maxIter);\n",
    "    Y = np.vstack((np.array([[0]]),Y,np.array([[0]])))\n",
    "    plotSol(abs(Y-Y2)) # Plot error\n",
    "interactive_plot = interact(solveAndPlot, maxIter=IntSlider(min=1, max=300, step=10));"
   ]
  },
  {
   "cell_type": "markdown",
   "metadata": {
    "slideshow": {
     "slide_type": "slide"
    }
   },
   "source": [
    "# Gauss-Seidel Relaxation\n",
    "\n",
    "#### Implementation\n",
    "- x_new not needed\n",
    "- x can be computed in place\n",
    "\n",
    "#### Properties\n",
    "- matrix $A$ needs to be symmetric positive definite (or strictly diagonally dominant)\n",
    "- usually faster convergence than Jacobi"
   ]
  },
  {
   "cell_type": "markdown",
   "metadata": {
    "slideshow": {
     "slide_type": "slide"
    }
   },
   "source": [
    "# Successive-Over-Relaxation (SOR)\n",
    "\n",
    "- observation: Gauss-Seidel and Jacobi corrections are “too small”\n",
    "- add an over-relaxation-factor $\\alpha$:\n",
    "#### For Jacobi Method\n",
    "- $x_i^{new} = x_i + \\alpha \\cdot A_{ii}^{-1}( b_i - \\sum_{j=1}^N  A_{ij} x_j)$\n",
    "- for 2D Poisson model problem (e.g. matrix A1):\n",
    "    - optimal $\\alpha \\approx 1.7$ improves convergence: $O(n^2) \\to O(n^{3/2})$"
   ]
  },
  {
   "cell_type": "markdown",
   "metadata": {
    "slideshow": {
     "slide_type": "slide"
    }
   },
   "source": [
    "# SOR: Code Example\n",
    "\n",
    "#### Only need to modify the Jacobi example slightly"
   ]
  },
  {
   "cell_type": "code",
   "execution_count": 17,
   "metadata": {
    "slideshow": {
     "slide_type": "fragment"
    }
   },
   "outputs": [],
   "source": [
    "def SOR(A, b, alpha, x0, maxIter):\n",
    "    x = x0  # initial guess\n",
    "    xnew = np.zeros(N).reshape(-1,1)\n",
    "    for i in range(maxIter):\n",
    "        for j in range(0,N):\n",
    "            xnew[j] =  x[j] + (alpha/A[j,j]) * (b[j] - np.dot(A[j,:],x));\n",
    "        if(i == maxIter-1):\n",
    "            print(\"Residual\", np.linalg.norm( b - np.dot(A,x))) \n",
    "        x = xnew\n",
    "    return x"
   ]
  },
  {
   "cell_type": "markdown",
   "metadata": {
    "slideshow": {
     "slide_type": "slide"
    }
   },
   "source": [
    "# SOR: Code Example\n",
    "\n",
    "#### Only need to modify the Jacobi example slightly"
   ]
  },
  {
   "cell_type": "code",
   "execution_count": 19,
   "metadata": {
    "slideshow": {
     "slide_type": "fragment"
    }
   },
   "outputs": [
    {
     "data": {
      "application/vnd.jupyter.widget-view+json": {
       "model_id": "9855071272bd445da18bf156715cc17b",
       "version_major": 2,
       "version_minor": 0
      },
      "text/plain": [
       "interactive(children=(IntSlider(value=1, description='maxIter', max=300, min=1, step=10), Output()), _dom_clas…"
      ]
     },
     "metadata": {},
     "output_type": "display_data"
    }
   ],
   "source": [
    "def solveAndPlot(maxIter):\n",
    "    Y = SOR(A2,b,1.7,np.zeros(N).reshape(-1,1),maxIter);\n",
    "    Y = np.vstack((np.array([[0]]),Y,np.array([[0]])))\n",
    "    plotSol(abs(Y-Y2)) # Plot error\n",
    "interactive_plot = interact(solveAndPlot, maxIter=IntSlider(min=1, max=300, step=10));"
   ]
  },
  {
   "cell_type": "markdown",
   "metadata": {
    "slideshow": {
     "slide_type": "slide"
    }
   },
   "source": [
    "# Relaxation Methods: Summary\n",
    "\n",
    "#### How about performance? usually quite slow\n",
    "- Code Example ($N=100$): \n",
    "    1. Jacobi:needed 140 of iterations to reach tol=$1e-4$\n",
    "    2. Gauss-Seidel: needed $70$ iterations tol=$1e-4$\n",
    "    3. SOR: needed $36$ iterations tol=$1e-4$\n"
   ]
  },
  {
   "cell_type": "markdown",
   "metadata": {
    "slideshow": {
     "slide_type": "slide"
    }
   },
   "source": [
    "# Relaxation Methods: Summary\n",
    "\n",
    "\n",
    "#### Our next topics:\n",
    "1. How slow are the methods exactly?\n",
    "2. What is the underlying reason?\n",
    "3. Is there a fix?"
   ]
  },
  {
   "cell_type": "markdown",
   "metadata": {
    "slideshow": {
     "slide_type": "slide"
    }
   },
   "source": [
    "# Smoothing Property of Relaxation Methods"
   ]
  },
  {
   "cell_type": "markdown",
   "metadata": {
    "slideshow": {
     "slide_type": "slide"
    }
   },
   "source": [
    "### Observation\n",
    "- slow convergence\n",
    "- smooth error components are reduced very slowly\n",
    "- high frequency error components are damped more efficiently \n",
    "    - especially for Gauss-Seidel relaxation(SOR)"
   ]
  },
  {
   "cell_type": "markdown",
   "metadata": {
    "slideshow": {
     "slide_type": "slide"
    }
   },
   "source": [
    "## Smoothing Properties: Model Problem (1D Poisson)\n",
    "\n",
    "\\begin{align}\n",
    "- \\partial_x^2 u (x) = 0\\text{ on }\\Omega = (0, 1),\\\\\n",
    "u(0) = u(1) = 0\n",
    "\\end{align}\n",
    "\n",
    "- Note: Solution will be zero, but useful for seeing why Jacobi reduces high-frequency components"
   ]
  },
  {
   "cell_type": "markdown",
   "metadata": {
    "slideshow": {
     "slide_type": "slide"
    }
   },
   "source": [
    "## Smoothing Properties: Model Problem (1D Poisson)\n",
    "\n",
    "- discretised on a uniform grid of mesh size h = 1/(N+1)\n",
    "- grid points are $x_j := jh$, with $j = 1, . . . , N$\n",
    "- compute values at grid points $u_j  = u(x_j)$\n",
    "- system matrix A computed using \n",
    "    - $\\partial_x u(x) \\approx \\frac{u(x+h)-u(x)}{h}$ $\\to$ $\\partial_x^2 u(x) \\approx \\frac{u(x+h)-2u(x)+u(x-h)}{h^2}$\n",
    "    "
   ]
  },
  {
   "cell_type": "markdown",
   "metadata": {
    "slideshow": {
     "slide_type": "slide"
    }
   },
   "source": [
    "## Smoothing Properties: Model Problem (1D Poisson)\n",
    "\n",
    "#### Tridiagonal matrix:"
   ]
  },
  {
   "cell_type": "code",
   "execution_count": 20,
   "metadata": {
    "slideshow": {
     "slide_type": "fragment"
    }
   },
   "outputs": [
    {
     "data": {
      "text/plain": [
       "array([[ 50., -25.,   0.,   0.],\n",
       "       [-25.,  50., -25.,   0.],\n",
       "       [  0., -25.,  50., -25.],\n",
       "       [  0.,   0., -25.,  50.]])"
      ]
     },
     "execution_count": 20,
     "metadata": {},
     "output_type": "execute_result"
    }
   ],
   "source": [
    "N=4; h = 1/5;\n",
    "diagonals1 = [-np.ones(N-1), 2*np.ones(N), -np.ones(N-1)]\n",
    "A = diags(diagonals1, [-1, 0, 1]).toarray()/h/h\n",
    "A"
   ]
  },
  {
   "cell_type": "markdown",
   "metadata": {
    "slideshow": {
     "slide_type": "slide"
    }
   },
   "source": [
    "## Model Problem: Jacobi Relaxation\n",
    "\n",
    "- Scheme for$j$-th vector entry: $u_j^{(k +1)} = \\frac{1}{2}(u_{j+1}^{(k)} + u_{j−1}^{(k)})$\n",
    "- in this case, error: $e_j(k) = 0 - u_j^{(k)}$"
   ]
  },
  {
   "cell_type": "code",
   "execution_count": 21,
   "metadata": {
    "slideshow": {
     "slide_type": "slide"
    }
   },
   "outputs": [
    {
     "data": {
      "application/vnd.jupyter.widget-view+json": {
       "model_id": "605e1d1ed29b4fa4968b13b9f6f54154",
       "version_major": 2,
       "version_minor": 0
      },
      "text/plain": [
       "interactive(children=(IntSlider(value=0, description='k', max=4), Output()), _dom_classes=('widget-interact',)…"
      ]
     },
     "metadata": {},
     "output_type": "display_data"
    }
   ],
   "source": [
    "maxIter = 2\n",
    "def iterateAndPlot(k):\n",
    "    Y = np.ones(N); #Initial guess: one\n",
    "    if(maxIter>1): Y = jacobiRelaxation(A,np.zeros(N).reshape(-1,1),Y.reshape(-1,1), maxIter-1)\n",
    "    Ynew = np.copy(Y)\n",
    "    for i in range(k): # perform Jacobi step for index 1...k\n",
    "            if(i==0):\n",
    "                Ynew[i] = 0.5*Y[i+1]\n",
    "            if(i>0 and i < N-1):\n",
    "                Ynew[i] = 0.5*(Y[i+1]+Y[i-1])\n",
    "            elif(i==N-1):\n",
    "                Ynew[i]= 0.5*Y[i-1]\n",
    "    plotSol2(abs(Ynew),abs(Y)) # Plot error\n",
    "interactive_plot = interact(iterateAndPlot, k=IntSlider(min=0, max=N, step=1));"
   ]
  },
  {
   "cell_type": "markdown",
   "metadata": {
    "slideshow": {
     "slide_type": "slide"
    }
   },
   "source": [
    "## Model Problem: Gauss-Seidel Relaxation\n",
    "\n",
    "- Scheme for$j$-th vector entry: $u_j^{(k +1)} = \\frac{1}{2}(u_{j+1}^{(k)} + u_{j−1}^{(k+1)})$\n",
    "- in this case, error: $e_j(k) = 0 - u_j^{(k)}$"
   ]
  },
  {
   "cell_type": "code",
   "execution_count": 22,
   "metadata": {
    "slideshow": {
     "slide_type": "slide"
    }
   },
   "outputs": [
    {
     "data": {
      "application/vnd.jupyter.widget-view+json": {
       "model_id": "c0daf2519dac4fb1aff810c4fb538e86",
       "version_major": 2,
       "version_minor": 0
      },
      "text/plain": [
       "interactive(children=(IntSlider(value=0, description='k', max=4), Output()), _dom_classes=('widget-interact',)…"
      ]
     },
     "metadata": {},
     "output_type": "display_data"
    }
   ],
   "source": [
    "def iterateAndPlot(k):\n",
    "    maxIter = 1\n",
    "    Y = np.ones(N); #Initial guess: one\n",
    "    if(maxIter>1): Y = gaussSeidelRelaxation(A,np.zeros(N).reshape(-1,1),Y.reshape(-1,1), maxIter-1)\n",
    "    for i in range(k): # perform Jacobi step for index 1...k\n",
    "            if(i==0):\n",
    "                Y[i] = 0.5*Y[i+1]\n",
    "            if(i>0 and i < N-1):\n",
    "                Y[i] = 0.5*(Y[i+1]-Y[i-1])\n",
    "            elif(i==N-1):\n",
    "                Y[i]= 0.5*Y[i-1]\n",
    "    plotSol1(abs(Y)) # Plot error\n",
    "interactive_plot = interact(iterateAndPlot, k=IntSlider(min=0, max=N, step=1));"
   ]
  },
  {
   "cell_type": "markdown",
   "metadata": {
    "slideshow": {
     "slide_type": "slide"
    }
   },
   "source": [
    "# Convergence Analysis\n",
    "\n",
    "- remember iteration scheme: $x^{(i+1)} = M x^{(i)} + N b$\n",
    "- derive iterative scheme for the error $e^{(i)} := x - x^{(i)}$:\n",
    "    - $e^{(i+1)} = x - x^{(i+1)} =  x - M x^{(i)} - N b$\n",
    "\n",
    "- hence: \\begin{align} e^{(i+1)} &= M x + N b - M x^{(i)} - N b  \\\\ &= M x - M x^{(i)} = M e^{(i)} \\\\ \\Rightarrow  e^{(i)} &= M^i e^{(0)}. \\end{align}\n"
   ]
  },
  {
   "cell_type": "markdown",
   "metadata": {
    "slideshow": {
     "slide_type": "slide"
    }
   },
   "source": [
    "# Convergence Analysis\n",
    "\n",
    "- iteration equation for error: $e^{(i)} = M^i e^{(0)}$\n",
    "- consider eigenvalues $\\mu_k$ and eigenvectors $v_k$ of iteration matrix $M$: \n",
    "$$M v_k = \\mu_k v_k  \\quad\\Rightarrow \\quad M \\bigl( \\sum_k \\alpha_k v_k \\bigr) = \\sum_k \\alpha_k M v_k  = \\sum_k \\mu_k \\alpha_k v_k $$\n",
    "           "
   ]
  },
  {
   "cell_type": "markdown",
   "metadata": {
    "slideshow": {
     "slide_type": "slide"
    }
   },
   "source": [
    "# Convergence Analysis\n",
    "\n",
    "           \n",
    "- write error as combination of eigenvectors: \n",
    "    - $e^{(0)} = \\sum_{k} \\alpha_k v_k$, \n",
    "    - then: $$M^i e^{(0)} = M^i \\bigl( \\sum_k \\alpha_k v_k \\bigr) =\\sum_k (\\mu_k)^i \\alpha_k v_k $$\n",
    "                        \n",
    "- convergence, if all $\\left| \\mu_k \\right| < 1$\n",
    "- speed of convergence dominated by largest eigenvalue $\\mu_k$"
   ]
  },
  {
   "cell_type": "markdown",
   "metadata": {
    "slideshow": {
     "slide_type": "slide"
    }
   },
   "source": [
    "# The Smoothing Property\n",
    "\n",
    "### Fourier mode analysis\n",
    "\n",
    "- decompose the error $e^{(i)}$ into eigenvectors $\\to$ for 1D Poisson: $\\sin(k \\pi x_j)$\n",
    "- determine convergence factors for eigenvectors\n",
    "\n",
    "### Observation\n",
    "- The <b>high</b> frequency part (with respect to the underlying grid) is reduced quite quickly.\n",
    "\n",
    "- The <b>low</b> frequency part (w.r.t. the grid) decreases only very slowly; actually the slower, the finer the grid is."
   ]
  },
  {
   "cell_type": "markdown",
   "metadata": {
    "slideshow": {
     "slide_type": "slide"
    }
   },
   "source": [
    "# The Smoothing Property\n",
    "\n",
    "### Important Note on Residuals\n",
    "- the smoothest (slowest converging) component corresponds to the smallest eigenvalue of $A$\n",
    "- remember residual equation: $Ae = r$:\n",
    "    - if $e = v^{(1)}$, then $r = \\lambda_1 v^{(1)}$\n",
    "\n",
    "\n",
    "####  $\\Rightarrow$ <em>small residual, but large error</em>\n",
    "####  $\\Rightarrow$ in such a situation, any residual-based correction will normally fail"
   ]
  },
  {
   "cell_type": "markdown",
   "metadata": {
    "slideshow": {
     "slide_type": "slide"
    }
   },
   "source": [
    "# Summary\n",
    "\n",
    "- Smoothers good for reducing high-frequency errors\n",
    "- Otherwise very slow convergence\n",
    "- Gauss-Seidel and SOR, usually slightly faster than Jacobi\n",
    "- Useful in conjunction with other methods (Multigrid/CG)"
   ]
  },
  {
   "cell_type": "markdown",
   "metadata": {
    "slideshow": {
     "slide_type": "slide"
    }
   },
   "source": [
    "# Questions\n",
    "\n",
    "- The webpage contains an exercise on the eigenvalues of the Laplace equation. Working through those, can help understand the behaviour we have seen here.\n",
    "- The solution is in smoothers-II.ipynb"
   ]
  }
 ],
 "metadata": {
  "celltoolbar": "Slideshow",
  "jupytext": {
   "formats": "ipynb"
  },
  "kernelspec": {
   "display_name": "Python 3",
   "language": "python",
   "name": "python3"
  },
  "language_info": {
   "codemirror_mode": {
    "name": "ipython",
    "version": 3
   },
   "file_extension": ".py",
   "mimetype": "text/x-python",
   "name": "python",
   "nbconvert_exporter": "python",
   "pygments_lexer": "ipython3",
   "version": "3.8.10"
  },
  "rise": {
   "autolaunch": true,
   "enable_chalkboard": true,
   "scroll": true,
   "theme": "white"
  }
 },
 "nbformat": 4,
 "nbformat_minor": 2
}
